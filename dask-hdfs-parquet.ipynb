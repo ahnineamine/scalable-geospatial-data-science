{
 "cells": [
  {
   "cell_type": "markdown",
   "metadata": {},
   "source": [
    "# Dask HDFS Parquet\n",
    "\n",
    "- https://github.com/dask/dask-yarn"
   ]
  },
  {
   "cell_type": "code",
   "execution_count": 1,
   "metadata": {},
   "outputs": [],
   "source": [
    "%matplotlib inline"
   ]
  },
  {
   "cell_type": "code",
   "execution_count": 3,
   "metadata": {},
   "outputs": [
    {
     "name": "stdout",
     "output_type": "stream",
     "text": [
      "pandas 1.0.5\n",
      "dask 2.19.0\n",
      "numpy 1.18.5\n"
     ]
    }
   ],
   "source": [
    "import os\n",
    "import numpy as np\n",
    "import pandas as pd\n",
    "import matplotlib.pyplot as plt\n",
    "\n",
    "import dask\n",
    "import dask.dataframe as dd\n",
    "from dask.distributed import Client\n",
    "\n",
    "HDFS_HOME = \"hdfs://node-master:54310/user/hadoop\"\n",
    "\n",
    "for module in [pd, dask, np]:\n",
    "    print(module.__name__, module.__version__)"
   ]
  },
  {
   "cell_type": "code",
   "execution_count": 4,
   "metadata": {},
   "outputs": [
    {
     "data": {
      "text/html": [
       "<table style=\"border: 2px solid white;\">\n",
       "<tr>\n",
       "<td style=\"vertical-align: top; border: 0px solid white\">\n",
       "<h3 style=\"text-align: left;\">Client</h3>\n",
       "<ul style=\"text-align: left; list-style: none; margin: 0; padding: 0;\">\n",
       "  <li><b>Scheduler: </b>tcp://127.0.0.1:33405</li>\n",
       "  <li><b>Dashboard: </b><a href='http://127.0.0.1:8787/status' target='_blank'>http://127.0.0.1:8787/status</a></li>\n",
       "</ul>\n",
       "</td>\n",
       "<td style=\"vertical-align: top; border: 0px solid white\">\n",
       "<h3 style=\"text-align: left;\">Cluster</h3>\n",
       "<ul style=\"text-align: left; list-style:none; margin: 0; padding: 0;\">\n",
       "  <li><b>Workers: </b>3</li>\n",
       "  <li><b>Cores: </b>6</li>\n",
       "  <li><b>Memory: </b>42.00 GB</li>\n",
       "</ul>\n",
       "</td>\n",
       "</tr>\n",
       "</table>"
      ],
      "text/plain": [
       "<Client: 'tcp://127.0.0.1:33405' processes=3 threads=6, memory=42.00 GB>"
      ]
     },
     "execution_count": 4,
     "metadata": {},
     "output_type": "execute_result"
    }
   ],
   "source": [
    "client = Client(memory_limit='14GB', processes=True)\n",
    "client"
   ]
  },
  {
   "cell_type": "code",
   "execution_count": 9,
   "metadata": {},
   "outputs": [
    {
     "name": "stdout",
     "output_type": "stream",
     "text": [
      "CPU times: user 16.4 s, sys: 778 ms, total: 17.2 s\n",
      "Wall time: 15.9 s\n"
     ]
    }
   ],
   "source": [
    "%%time\n",
    "filepath = HDFS_HOME + \"/gdelt_500MB.snappy.parq\"\n",
    "df = dd.read_parquet(filepath)"
   ]
  },
  {
   "cell_type": "code",
   "execution_count": 10,
   "metadata": {},
   "outputs": [
    {
     "name": "stdout",
     "output_type": "stream",
     "text": [
      "CPU times: user 810 ms, sys: 131 ms, total: 941 ms\n",
      "Wall time: 17.2 s\n"
     ]
    },
    {
     "data": {
      "text/html": [
       "<div>\n",
       "<style scoped>\n",
       "    .dataframe tbody tr th:only-of-type {\n",
       "        vertical-align: middle;\n",
       "    }\n",
       "\n",
       "    .dataframe tbody tr th {\n",
       "        vertical-align: top;\n",
       "    }\n",
       "\n",
       "    .dataframe thead th {\n",
       "        text-align: right;\n",
       "    }\n",
       "</style>\n",
       "<table border=\"1\" class=\"dataframe\">\n",
       "  <thead>\n",
       "    <tr style=\"text-align: right;\">\n",
       "      <th></th>\n",
       "      <th>event_id</th>\n",
       "      <th>date</th>\n",
       "      <th>event_date</th>\n",
       "      <th>event_code</th>\n",
       "      <th>event_base_code</th>\n",
       "      <th>event_root_code</th>\n",
       "      <th>lat</th>\n",
       "      <th>lon</th>\n",
       "      <th>geo_type</th>\n",
       "      <th>country_code</th>\n",
       "      <th>adm1_code</th>\n",
       "      <th>source_url</th>\n",
       "      <th>netloc</th>\n",
       "    </tr>\n",
       "  </thead>\n",
       "  <tbody>\n",
       "    <tr>\n",
       "      <th>0</th>\n",
       "      <td>1</td>\n",
       "      <td>2013-02-03</td>\n",
       "      <td>1979-01-01</td>\n",
       "      <td>30</td>\n",
       "      <td>30</td>\n",
       "      <td>3</td>\n",
       "      <td>10.0000</td>\n",
       "      <td>8.0000</td>\n",
       "      <td>1</td>\n",
       "      <td>NI</td>\n",
       "      <td>NI</td>\n",
       "      <td>None</td>\n",
       "      <td>None</td>\n",
       "    </tr>\n",
       "    <tr>\n",
       "      <th>1</th>\n",
       "      <td>2</td>\n",
       "      <td>2013-02-03</td>\n",
       "      <td>1979-01-01</td>\n",
       "      <td>100</td>\n",
       "      <td>100</td>\n",
       "      <td>10</td>\n",
       "      <td>10.0000</td>\n",
       "      <td>8.0000</td>\n",
       "      <td>1</td>\n",
       "      <td>NI</td>\n",
       "      <td>NI</td>\n",
       "      <td>None</td>\n",
       "      <td>None</td>\n",
       "    </tr>\n",
       "    <tr>\n",
       "      <th>2</th>\n",
       "      <td>3</td>\n",
       "      <td>2013-02-03</td>\n",
       "      <td>1979-01-01</td>\n",
       "      <td>43</td>\n",
       "      <td>43</td>\n",
       "      <td>4</td>\n",
       "      <td>23.0036</td>\n",
       "      <td>106.3590</td>\n",
       "      <td>4</td>\n",
       "      <td>CH</td>\n",
       "      <td>CH16</td>\n",
       "      <td>None</td>\n",
       "      <td>None</td>\n",
       "    </tr>\n",
       "    <tr>\n",
       "      <th>3</th>\n",
       "      <td>4</td>\n",
       "      <td>2013-02-03</td>\n",
       "      <td>1979-01-01</td>\n",
       "      <td>190</td>\n",
       "      <td>190</td>\n",
       "      <td>19</td>\n",
       "      <td>32.7831</td>\n",
       "      <td>-96.8067</td>\n",
       "      <td>3</td>\n",
       "      <td>US</td>\n",
       "      <td>USTX</td>\n",
       "      <td>None</td>\n",
       "      <td>None</td>\n",
       "    </tr>\n",
       "    <tr>\n",
       "      <th>4</th>\n",
       "      <td>5</td>\n",
       "      <td>2013-02-03</td>\n",
       "      <td>1979-01-01</td>\n",
       "      <td>46</td>\n",
       "      <td>46</td>\n",
       "      <td>4</td>\n",
       "      <td>31.7444</td>\n",
       "      <td>34.6809</td>\n",
       "      <td>4</td>\n",
       "      <td>IS</td>\n",
       "      <td>IS01</td>\n",
       "      <td>None</td>\n",
       "      <td>None</td>\n",
       "    </tr>\n",
       "  </tbody>\n",
       "</table>\n",
       "</div>"
      ],
      "text/plain": [
       "  event_id        date  event_date  event_code  event_base_code  \\\n",
       "0        1  2013-02-03  1979-01-01          30               30   \n",
       "1        2  2013-02-03  1979-01-01         100              100   \n",
       "2        3  2013-02-03  1979-01-01          43               43   \n",
       "3        4  2013-02-03  1979-01-01         190              190   \n",
       "4        5  2013-02-03  1979-01-01          46               46   \n",
       "\n",
       "   event_root_code      lat       lon  geo_type country_code adm1_code  \\\n",
       "0                3  10.0000    8.0000         1           NI        NI   \n",
       "1               10  10.0000    8.0000         1           NI        NI   \n",
       "2                4  23.0036  106.3590         4           CH      CH16   \n",
       "3               19  32.7831  -96.8067         3           US      USTX   \n",
       "4                4  31.7444   34.6809         4           IS      IS01   \n",
       "\n",
       "  source_url netloc  \n",
       "0       None   None  \n",
       "1       None   None  \n",
       "2       None   None  \n",
       "3       None   None  \n",
       "4       None   None  "
      ]
     },
     "execution_count": 10,
     "metadata": {},
     "output_type": "execute_result"
    }
   ],
   "source": [
    "%%time\n",
    "df.head()"
   ]
  },
  {
   "cell_type": "code",
   "execution_count": 14,
   "metadata": {},
   "outputs": [
    {
     "data": {
      "text/plain": [
       "event_id                   object\n",
       "date               datetime64[ns]\n",
       "event_date         datetime64[ns]\n",
       "event_code                float64\n",
       "event_base_code           float64\n",
       "event_root_code           float64\n",
       "lat                       float64\n",
       "lon                       float64\n",
       "geo_type                  float64\n",
       "country_code               object\n",
       "adm1_code                  object\n",
       "source_url                 object\n",
       "netloc                     object\n",
       "dtype: object"
      ]
     },
     "execution_count": 14,
     "metadata": {},
     "output_type": "execute_result"
    }
   ],
   "source": [
    "df.dtypes"
   ]
  },
  {
   "cell_type": "markdown",
   "metadata": {},
   "source": [
    "# Calculate Counts"
   ]
  },
  {
   "cell_type": "code",
   "execution_count": 11,
   "metadata": {},
   "outputs": [
    {
     "name": "stdout",
     "output_type": "stream",
     "text": [
      "CPU times: user 52.7 s, sys: 6.65 s, total: 59.3 s\n",
      "Wall time: 10min 23s\n"
     ]
    },
    {
     "data": {
      "text/plain": [
       "640389681"
      ]
     },
     "execution_count": 11,
     "metadata": {},
     "output_type": "execute_result"
    }
   ],
   "source": [
    "%%time\n",
    "df.shape[0].compute()"
   ]
  },
  {
   "cell_type": "code",
   "execution_count": 12,
   "metadata": {},
   "outputs": [
    {
     "name": "stdout",
     "output_type": "stream",
     "text": [
      "CPU times: user 50.8 s, sys: 4.72 s, total: 55.5 s\n",
      "Wall time: 8min 31s\n"
     ]
    },
    {
     "data": {
      "text/plain": [
       "640389681"
      ]
     },
     "execution_count": 12,
     "metadata": {},
     "output_type": "execute_result"
    }
   ],
   "source": [
    "%%time\n",
    "len(df)"
   ]
  },
  {
   "cell_type": "code",
   "execution_count": 13,
   "metadata": {},
   "outputs": [
    {
     "name": "stdout",
     "output_type": "stream",
     "text": [
      "CPU times: user 17.5 s, sys: 2.21 s, total: 19.7 s\n",
      "Wall time: 2min 9s\n"
     ]
    },
    {
     "data": {
      "text/plain": [
       "640389681"
      ]
     },
     "execution_count": 13,
     "metadata": {},
     "output_type": "execute_result"
    }
   ],
   "source": [
    "%%time\n",
    "len(df['event_id'])"
   ]
  },
  {
   "cell_type": "markdown",
   "metadata": {},
   "source": [
    "# Most Common `event_root_code`"
   ]
  },
  {
   "cell_type": "code",
   "execution_count": 15,
   "metadata": {},
   "outputs": [
    {
     "name": "stdout",
     "output_type": "stream",
     "text": [
      "CPU times: user 4.78 s, sys: 379 ms, total: 5.16 s\n",
      "Wall time: 13 s\n"
     ]
    },
    {
     "data": {
      "text/plain": [
       "4     161810583\n",
       "1      91186748\n",
       "5      50343855\n",
       "3      47064431\n",
       "2      45385155\n",
       "19     41597232\n",
       "11     40943344\n",
       "17     30890694\n",
       "8      23330016\n",
       "7      21233148\n",
       "12     16838770\n",
       "6      14513080\n",
       "9      12507727\n",
       "18     10146874\n",
       "13      9420267\n",
       "10      8488917\n",
       "14      6083109\n",
       "16      6006285\n",
       "15      2331574\n",
       "20       267872\n",
       "Name: event_root_code, dtype: int64"
      ]
     },
     "execution_count": 15,
     "metadata": {},
     "output_type": "execute_result"
    }
   ],
   "source": [
    "%%time\n",
    "df['event_root_code'].value_counts().compute()"
   ]
  },
  {
   "cell_type": "markdown",
   "metadata": {},
   "source": [
    "# Most Common `netloc`"
   ]
  },
  {
   "cell_type": "code",
   "execution_count": 24,
   "metadata": {},
   "outputs": [
    {
     "name": "stdout",
     "output_type": "stream",
     "text": [
      "CPU times: user 8.47 s, sys: 907 ms, total: 9.38 s\n",
      "Wall time: 52.3 s\n"
     ]
    },
    {
     "data": {
      "text/plain": [
       "www.dailymail.co.uk            3961657\n",
       "                               3603963\n",
       "www.msn.com                    3374323\n",
       "allafrica.com                  3185057\n",
       "www.business-standard.com      1854742\n",
       "www.washingtonpost.com         1795871\n",
       "www.theguardian.com            1619331\n",
       "www.thenews.com.pk             1609585\n",
       "timesofindia.indiatimes.com    1564965\n",
       "www.reuters.com                1317667\n",
       "news.yahoo.com                 1270725\n",
       "www.thehindu.com               1221602\n",
       "www.sfgate.com                 1217931\n",
       "www.4-traders.com              1195832\n",
       "www.yahoo.com                  1166510\n",
       "www.nytimes.com                1084120\n",
       "indianexpress.com              1066858\n",
       "www.dawn.com                   1055886\n",
       "sputniknews.com                1052059\n",
       "www.cbc.ca                     1021724\n",
       "Name: netloc, dtype: int64"
      ]
     },
     "execution_count": 24,
     "metadata": {},
     "output_type": "execute_result"
    }
   ],
   "source": [
    "%%time\n",
    "df['netloc'].value_counts().compute().head(20)"
   ]
  },
  {
   "cell_type": "markdown",
   "metadata": {},
   "source": [
    "# Number of NaN per Column"
   ]
  },
  {
   "cell_type": "code",
   "execution_count": 16,
   "metadata": {},
   "outputs": [
    {
     "name": "stdout",
     "output_type": "stream",
     "text": [
      "CPU times: user 55.2 s, sys: 6.16 s, total: 1min 1s\n",
      "Wall time: 9min 5s\n"
     ]
    },
    {
     "data": {
      "text/plain": [
       "event_id                   0\n",
       "date                       0\n",
       "event_date                 0\n",
       "event_code                 0\n",
       "event_base_code            0\n",
       "event_root_code            0\n",
       "lat                        0\n",
       "lon                        0\n",
       "geo_type                   0\n",
       "country_code          126031\n",
       "adm1_code             126031\n",
       "source_url         207800680\n",
       "netloc             207800680\n",
       "dtype: int64"
      ]
     },
     "execution_count": 16,
     "metadata": {},
     "output_type": "execute_result"
    }
   ],
   "source": [
    "%%time\n",
    "df.isna().sum().compute()"
   ]
  },
  {
   "cell_type": "code",
   "execution_count": 20,
   "metadata": {},
   "outputs": [
    {
     "name": "stdout",
     "output_type": "stream",
     "text": [
      "CPU times: user 6.57 s, sys: 696 ms, total: 7.26 s\n",
      "Wall time: 31.3 s\n"
     ]
    },
    {
     "data": {
      "text/plain": [
       "datetime.date(1979, 1, 1)"
      ]
     },
     "execution_count": 20,
     "metadata": {},
     "output_type": "execute_result"
    }
   ],
   "source": [
    "%%time\n",
    "df['event_date'].min().compute()"
   ]
  },
  {
   "cell_type": "code",
   "execution_count": 21,
   "metadata": {},
   "outputs": [
    {
     "name": "stdout",
     "output_type": "stream",
     "text": [
      "CPU times: user 6.14 s, sys: 594 ms, total: 6.73 s\n",
      "Wall time: 31.5 s\n"
     ]
    },
    {
     "data": {
      "text/plain": [
       "datetime.date(2013, 2, 3)"
      ]
     },
     "execution_count": 21,
     "metadata": {},
     "output_type": "execute_result"
    }
   ],
   "source": [
    "%%time\n",
    "df['date'].min().compute()"
   ]
  },
  {
   "cell_type": "markdown",
   "metadata": {},
   "source": [
    "# Full GDELT Data Set"
   ]
  },
  {
   "cell_type": "code",
   "execution_count": 26,
   "metadata": {},
   "outputs": [
    {
     "name": "stdout",
     "output_type": "stream",
     "text": [
      "CPU times: user 1min 47s, sys: 12.9 s, total: 2min\n",
      "Wall time: 1min 53s\n"
     ]
    }
   ],
   "source": [
    "%%time\n",
    "df_headers = pd.read_excel('data/CSV.header.fieldids.xlsx')\n",
    "columns = df_headers.columns.values\n",
    "FILEPATH = \"processed_data/gdelt.snappy.parq/\"\n",
    "df = dd.read_parquet(FILEPATH, sep='\\t', names=columns, dtype='str')"
   ]
  },
  {
   "cell_type": "code",
   "execution_count": 28,
   "metadata": {},
   "outputs": [
    {
     "name": "stdout",
     "output_type": "stream",
     "text": [
      "CPU times: user 11min 37s, sys: 45.7 s, total: 12min 22s\n",
      "Wall time: 53min 6s\n"
     ]
    },
    {
     "data": {
      "text/plain": [
       "GLOBALEVENTID                    0\n",
       "SQLDATE                          0\n",
       "MonthYear                        2\n",
       "Year                             2\n",
       "FractionDate                     0\n",
       "Actor1Code                59289286\n",
       "Actor1Name                59288453\n",
       "Actor1CountryCode        269443372\n",
       "Actor1KnownGroupCode     624457810\n",
       "Actor1EthnicCode         630318058\n",
       "Actor1Religion1Code      624180455\n",
       "Actor1Religion2Code      631803830\n",
       "Actor1Type1Code          360460814\n",
       "Actor1Type2Code          615220456\n",
       "Actor1Type3Code          633649374\n",
       "Actor2Code               163731995\n",
       "Actor2Name               166884120\n",
       "Actor2CountryCode        338490456\n",
       "Actor2KnownGroupCode     625795389\n",
       "Actor2EthnicCode         630940177\n",
       "Actor2Religion1Code      624563644\n",
       "Actor2Religion2Code      632084016\n",
       "Actor2Type1Code          412705482\n",
       "Actor2Type2Code          620190161\n",
       "Actor2Type3Code          633867663\n",
       "IsRootEvent                      0\n",
       "EventCode                        3\n",
       "EventBaseCode                    3\n",
       "EventRootCode                  242\n",
       "QuadClass                        0\n",
       "GoldsteinScale                2688\n",
       "NumMentions                      0\n",
       "NumSources                       0\n",
       "NumArticles                      0\n",
       "AvgTone                          0\n",
       "Actor1Geo_Type            23239615\n",
       "Actor1Geo_FullName        73736093\n",
       "Actor1Geo_CountryCode     72963145\n",
       "Actor1Geo_ADM1Code        72963145\n",
       "Actor1Geo_Lat             48915957\n",
       "Actor1Geo_Long            48872547\n",
       "Actor1Geo_FeatureID       48769864\n",
       "Actor2Geo_Type            16698073\n",
       "Actor2Geo_FullName       178079212\n",
       "Actor2Geo_CountryCode    177472195\n",
       "Actor2Geo_ADM1Code       177472195\n",
       "Actor2Geo_Lat            121391311\n",
       "Actor2Geo_Long           121358194\n",
       "Actor2Geo_FeatureID      121289821\n",
       "ActionGeo_Type             5108233\n",
       "ActionGeo_FullName        16305038\n",
       "ActionGeo_CountryCode     15390643\n",
       "ActionGeo_ADM1Code        15390643\n",
       "ActionGeo_Lat             10334518\n",
       "ActionGeo_Long            10280820\n",
       "ActionGeo_FeatureID       18100037\n",
       "DATEADDED                   190740\n",
       "SOURCEURL                212908953\n",
       "dtype: int64"
      ]
     },
     "execution_count": 28,
     "metadata": {},
     "output_type": "execute_result"
    }
   ],
   "source": [
    "%%time\n",
    "df_na = df.isna().sum().compute()\n",
    "df_na"
   ]
  },
  {
   "cell_type": "code",
   "execution_count": 29,
   "metadata": {},
   "outputs": [
    {
     "name": "stdout",
     "output_type": "stream",
     "text": [
      "CPU times: user 1min 50s, sys: 8.27 s, total: 1min 58s\n",
      "Wall time: 5min 39s\n"
     ]
    }
   ],
   "source": [
    "%%time\n",
    "num_rows = len(df['GLOBALEVENTID'])"
   ]
  },
  {
   "cell_type": "code",
   "execution_count": 37,
   "metadata": {},
   "outputs": [
    {
     "data": {
      "image/png": "[encoded data removed]",
      "text/plain": [
       "<Figure size 720x864 with 1 Axes>"
      ]
     },
     "metadata": {
      "needs_background": "light"
     },
     "output_type": "display_data"
    }
   ],
   "source": [
    "(df_na / num_rows).sort_values(ascending=True).plot(kind='barh', figsize=(10, 12));"
   ]
  }
 ],
 "metadata": {
  "kernelspec": {
   "display_name": "gis",
   "language": "python",
   "name": "gis"
  },
  "language_info": {
   "codemirror_mode": {
    "name": "ipython",
    "version": 3
   },
   "file_extension": ".py",
   "mimetype": "text/x-python",
   "name": "python",
   "nbconvert_exporter": "python",
   "pygments_lexer": "ipython3",
   "version": "3.7.6"
  }
 },
 "nbformat": 4,
 "nbformat_minor": 4
}
