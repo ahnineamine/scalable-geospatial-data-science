{
 "cells": [
  {
   "cell_type": "markdown",
   "metadata": {},
   "source": [
    "# Explore Parquet Files\n",
    "\n",
    "- 2017 - [Development update: High speed Apache Parquet in Python with Apache Arrow ](https://wesmckinney.com/blog/python-parquet-update/)"
   ]
  },
  {
   "cell_type": "code",
   "execution_count": 1,
   "metadata": {},
   "outputs": [],
   "source": [
    "%matplotlib inline"
   ]
  },
  {
   "cell_type": "code",
   "execution_count": 2,
   "metadata": {},
   "outputs": [],
   "source": [
    "import os\n",
    "import json\n",
    "import numpy as np\n",
    "import pandas as pd\n",
    "import fastparquet\n",
    "import pyarrow as pa\n",
    "import pyarrow.parquet as pq\n",
    "\n",
    "from IPython.display import JSON"
   ]
  },
  {
   "cell_type": "code",
   "execution_count": 3,
   "metadata": {},
   "outputs": [
    {
     "name": "stdout",
     "output_type": "stream",
     "text": [
      "pandas 1.0.5\n",
      "numpy 1.18.5\n",
      "pyarrow 3.0.0\n",
      "fastparquet 0.4.0\n"
     ]
    }
   ],
   "source": [
    "for module in [pd, np, pa, fastparquet]:\n",
    "    print(module.__name__, module.__version__)"
   ]
  },
  {
   "cell_type": "markdown",
   "metadata": {},
   "source": [
    "# PyArrow Parquet\n",
    "\n",
    "- [Reading and Writing the Apache Parquet Format](https://arrow.apache.org/docs/python/parquet.html)"
   ]
  },
  {
   "cell_type": "code",
   "execution_count": 7,
   "metadata": {},
   "outputs": [
    {
     "data": {
      "text/plain": [
       "<pyarrow._parquet.FileMetaData object at 0x7fba08472350>\n",
       "  created_by: parquet-cpp version 1.5.1-SNAPSHOT\n",
       "  num_columns: 13\n",
       "  num_rows: 937936\n",
       "  num_row_groups: 1\n",
       "  format_version: 1.0\n",
       "  serialized_size: 7166"
      ]
     },
     "execution_count": 7,
     "metadata": {},
     "output_type": "execute_result"
    }
   ],
   "source": [
    "parquet_file = pq.ParquetFile(\n",
    "    'processed_data/gdelt_2020_500MB.snappy.parq/part.0.parquet')\n",
    "\n",
    "parquet_file.metadata"
   ]
  },
  {
   "cell_type": "code",
   "execution_count": 8,
   "metadata": {},
   "outputs": [
    {
     "data": {
      "text/plain": [
       "<pyarrow._parquet.FileMetaData object at 0x7fba08472650>\n",
       "  created_by: parquet-cpp version 1.5.1-SNAPSHOT\n",
       "  num_columns: 13\n",
       "  num_rows: 43452639\n",
       "  num_row_groups: 46\n",
       "  format_version: 1.0\n",
       "  serialized_size: 84707"
      ]
     },
     "execution_count": 8,
     "metadata": {},
     "output_type": "execute_result"
    }
   ],
   "source": [
    "filepath = 'processed_data/gdelt_2020_500MB.snappy.parq'\n",
    "\n",
    "dataset = pq.ParquetDataset(filepath)\n",
    "dataset.metadata"
   ]
  },
  {
   "cell_type": "code",
   "execution_count": 9,
   "metadata": {},
   "outputs": [
    {
     "data": {
      "text/plain": [
       "<pyarrow._parquet.ParquetSchema object at 0x7fba084744b0>\n",
       "required group field_id=0 schema {\n",
       "  optional binary field_id=1 event_id (String);\n",
       "  optional int32 field_id=2 date (Date);\n",
       "  optional int32 field_id=3 event_date (Date);\n",
       "  optional int64 field_id=4 event_code;\n",
       "  optional int64 field_id=5 event_base_code;\n",
       "  optional int64 field_id=6 event_root_code;\n",
       "  optional double field_id=7 lat;\n",
       "  optional double field_id=8 lon;\n",
       "  optional int64 field_id=9 geo_type;\n",
       "  optional binary field_id=10 country_code (String);\n",
       "  optional binary field_id=11 adm1_code (String);\n",
       "  optional binary field_id=12 source_url (String);\n",
       "  optional binary field_id=13 netloc (String);\n",
       "}"
      ]
     },
     "execution_count": 9,
     "metadata": {},
     "output_type": "execute_result"
    }
   ],
   "source": [
    "dataset.schema"
   ]
  },
  {
   "cell_type": "markdown",
   "metadata": {},
   "source": [
    "# Fastparquet\n",
    "\n",
    "- https://fastparquet.readthedocs.io/en/latest/"
   ]
  },
  {
   "cell_type": "code",
   "execution_count": 10,
   "metadata": {},
   "outputs": [],
   "source": [
    "filepath = 'processed_data/gdelt_500MB.snappy.parq/'\n",
    "\n",
    "pf = fastparquet.ParquetFile(filepath)"
   ]
  },
  {
   "cell_type": "code",
   "execution_count": 11,
   "metadata": {},
   "outputs": [
    {
     "data": {
      "text/plain": [
       "{'name': 'processed_data/gdelt_500MB.snappy.parq/_metadata',\n",
       " 'columns': ['event_id',\n",
       "  'date',\n",
       "  'event_date',\n",
       "  'event_code',\n",
       "  'event_base_code',\n",
       "  'event_root_code',\n",
       "  'lat',\n",
       "  'lon',\n",
       "  'geo_type',\n",
       "  'country_code',\n",
       "  'adm1_code',\n",
       "  'source_url',\n",
       "  'netloc'],\n",
       " 'partitions': [],\n",
       " 'rows': 640389681}"
      ]
     },
     "execution_count": 11,
     "metadata": {},
     "output_type": "execute_result"
    }
   ],
   "source": [
    "pf.info"
   ]
  },
  {
   "cell_type": "code",
   "execution_count": 12,
   "metadata": {},
   "outputs": [
    {
     "data": {
      "text/plain": [
       "OrderedDict([('event_id', dtype('O')),\n",
       "             ('date', dtype('<M8[ns]')),\n",
       "             ('event_date', dtype('<M8[ns]')),\n",
       "             ('event_code', dtype('int64')),\n",
       "             ('event_base_code', dtype('int64')),\n",
       "             ('event_root_code', dtype('int64')),\n",
       "             ('lat', dtype('float64')),\n",
       "             ('lon', dtype('float64')),\n",
       "             ('geo_type', dtype('int64')),\n",
       "             ('country_code', dtype('O')),\n",
       "             ('adm1_code', dtype('O')),\n",
       "             ('source_url', dtype('O')),\n",
       "             ('netloc', dtype('O'))])"
      ]
     },
     "execution_count": 12,
     "metadata": {},
     "output_type": "execute_result"
    }
   ],
   "source": [
    "pf.dtypes"
   ]
  },
  {
   "cell_type": "code",
   "execution_count": 13,
   "metadata": {},
   "outputs": [
    {
     "data": {
      "text/plain": [
       "640389681"
      ]
     },
     "execution_count": 13,
     "metadata": {},
     "output_type": "execute_result"
    }
   ],
   "source": [
    "pf.count"
   ]
  },
  {
   "cell_type": "code",
   "execution_count": 14,
   "metadata": {},
   "outputs": [
    {
     "data": {
      "application/json": {
       "column_indexes": [],
       "columns": [
        {
         "field_name": "event_id",
         "metadata": null,
         "name": "event_id",
         "numpy_type": "object",
         "pandas_type": "unicode"
        },
        {
         "field_name": "date",
         "metadata": null,
         "name": "date",
         "numpy_type": "datetime64[ns]",
         "pandas_type": "date"
        },
        {
         "field_name": "event_date",
         "metadata": null,
         "name": "event_date",
         "numpy_type": "datetime64[ns]",
         "pandas_type": "date"
        },
        {
         "field_name": "event_code",
         "metadata": null,
         "name": "event_code",
         "numpy_type": "float64",
         "pandas_type": "int64"
        },
        {
         "field_name": "event_base_code",
         "metadata": null,
         "name": "event_base_code",
         "numpy_type": "float64",
         "pandas_type": "int64"
        },
        {
         "field_name": "event_root_code",
         "metadata": null,
         "name": "event_root_code",
         "numpy_type": "float64",
         "pandas_type": "int64"
        },
        {
         "field_name": "lat",
         "metadata": null,
         "name": "lat",
         "numpy_type": "float64",
         "pandas_type": "float64"
        },
        {
         "field_name": "lon",
         "metadata": null,
         "name": "lon",
         "numpy_type": "float64",
         "pandas_type": "float64"
        },
        {
         "field_name": "geo_type",
         "metadata": null,
         "name": "geo_type",
         "numpy_type": "float64",
         "pandas_type": "int64"
        },
        {
         "field_name": "country_code",
         "metadata": null,
         "name": "country_code",
         "numpy_type": "object",
         "pandas_type": "unicode"
        },
        {
         "field_name": "adm1_code",
         "metadata": null,
         "name": "adm1_code",
         "numpy_type": "object",
         "pandas_type": "unicode"
        },
        {
         "field_name": "source_url",
         "metadata": null,
         "name": "source_url",
         "numpy_type": "object",
         "pandas_type": "unicode"
        },
        {
         "field_name": "netloc",
         "metadata": null,
         "name": "netloc",
         "numpy_type": "object",
         "pandas_type": "unicode"
        }
       ],
       "creator": {
        "library": "pyarrow",
        "version": "3.0.0"
       },
       "index_columns": [],
       "pandas_version": "1.0.5"
      },
      "text/plain": [
       "<IPython.core.display.JSON object>"
      ]
     },
     "execution_count": 14,
     "metadata": {
      "application/json": {
       "expanded": false,
       "root": "root"
      }
     },
     "output_type": "execute_result"
    }
   ],
   "source": [
    "JSON(json.loads(pf.key_value_metadata['pandas']), expanded=False)"
   ]
  }
 ],
 "metadata": {
  "kernelspec": {
   "display_name": "sgds",
   "language": "python",
   "name": "sgds"
  },
  "language_info": {
   "codemirror_mode": {
    "name": "ipython",
    "version": 3
   },
   "file_extension": ".py",
   "mimetype": "text/x-python",
   "name": "python",
   "nbconvert_exporter": "python",
   "pygments_lexer": "ipython3",
   "version": "3.7.7"
  }
 },
 "nbformat": 4,
 "nbformat_minor": 4
}
