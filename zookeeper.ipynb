{
 "cells": [
  {
   "cell_type": "markdown",
   "metadata": {},
   "source": [
    "# Apache Zookeeper\n",
    "\n",
    "- http://kazoo.readthedocs.io/"
   ]
  },
  {
   "cell_type": "code",
   "execution_count": 1,
   "metadata": {},
   "outputs": [],
   "source": [
    "%matplotlib inline"
   ]
  },
  {
   "cell_type": "code",
   "execution_count": 2,
   "metadata": {},
   "outputs": [],
   "source": [
    "import os\n",
    "import pandas as pd\n",
    "from kazoo.client import KazooClient"
   ]
  },
  {
   "cell_type": "code",
   "execution_count": 3,
   "metadata": {},
   "outputs": [
    {
     "data": {
      "text/plain": [
       "'CONNECTED'"
      ]
     },
     "execution_count": 3,
     "metadata": {},
     "output_type": "execute_result"
    }
   ],
   "source": [
    "zk = KazooClient(hosts=\"node-master:2181\")\n",
    "zk.start()\n",
    "zk.state"
   ]
  },
  {
   "cell_type": "code",
   "execution_count": 4,
   "metadata": {},
   "outputs": [
    {
     "data": {
      "text/plain": [
       "(3, 4, 10)"
      ]
     },
     "execution_count": 4,
     "metadata": {},
     "output_type": "execute_result"
    }
   ],
   "source": [
    "zk.server_version()"
   ]
  },
  {
   "cell_type": "code",
   "execution_count": 5,
   "metadata": {},
   "outputs": [],
   "source": [
    "def get_paths(zk, path, level=0):\n",
    "    path_list = []\n",
    "    for child in zk.get_children(path):\n",
    "        child_path = os.path.join(path, child)\n",
    "        print(child_path)\n",
    "        \n",
    "        value, znodestat = None, None\n",
    "        try:\n",
    "            value, znodestat = zk.get(child_path)\n",
    "        except Exception as e:\n",
    "            print(type(e), e)\n",
    "        \n",
    "        path_list.append(dict(\n",
    "            path=child_path, \n",
    "            value=value, \n",
    "            znodestat=znodestat\n",
    "        ))\n",
    "        if level < 2:\n",
    "            path_list.extend(get_paths(zk, child_path, level=level+1))\n",
    "    \n",
    "    return path_list"
   ]
  },
  {
   "cell_type": "code",
   "execution_count": 9,
   "metadata": {},
   "outputs": [
    {
     "name": "stdout",
     "output_type": "stream",
     "text": [
      "/hbase-unsecure/meta-region-server\n",
      "/hbase-unsecure/rs\n",
      "/hbase-unsecure/rs/node-master,16020,1600419105559\n",
      "/hbase-unsecure/splitWAL\n",
      "/hbase-unsecure/backup-masters\n",
      "/hbase-unsecure/flush-table-proc\n",
      "/hbase-unsecure/flush-table-proc/abort\n",
      "/hbase-unsecure/flush-table-proc/acquired\n",
      "/hbase-unsecure/flush-table-proc/reached\n",
      "/hbase-unsecure/master-maintenance\n",
      "/hbase-unsecure/online-snapshot\n",
      "/hbase-unsecure/online-snapshot/abort\n",
      "/hbase-unsecure/online-snapshot/acquired\n",
      "/hbase-unsecure/online-snapshot/reached\n",
      "/hbase-unsecure/master\n",
      "/hbase-unsecure/switch\n",
      "/hbase-unsecure/running\n",
      "/hbase-unsecure/draining\n",
      "/hbase-unsecure/namespace\n",
      "/hbase-unsecure/namespace/default\n",
      "/hbase-unsecure/namespace/hbase\n",
      "/hbase-unsecure/hbaseid\n",
      "/hbase-unsecure/table\n",
      "/hbase-unsecure/table/gdelt_custom_gdelt_5fcustom_z3_geom_event_5fdate_v6\n",
      "/hbase-unsecure/table/hbase:meta\n",
      "/hbase-unsecure/table/gdelt_custom_gdelt_5fcustom_id_v4\n",
      "/hbase-unsecure/table/hbase:namespace\n",
      "/hbase-unsecure/table/gdelt_custom_gdelt_5fcustom_z2_geom_v5\n",
      "/hbase-unsecure/table/gdelt_gdelt_z3_geom_dtg_v6\n",
      "/hbase-unsecure/table/gdelt_custom\n",
      "/hbase-unsecure/table/gdelt_gdelt_z2_geom_v5\n",
      "/hbase-unsecure/table/gdelt\n",
      "/hbase-unsecure/table/gdelt_custom_gdelt_5fcustom_attr_event_5fid_geom_event_5fdate_v8\n",
      "/hbase-unsecure/table/gdelt_gdelt_id_v4\n"
     ]
    }
   ],
   "source": [
    "paths = get_paths(zk, '/hbase-unsecure')"
   ]
  },
  {
   "cell_type": "code",
   "execution_count": 10,
   "metadata": {},
   "outputs": [],
   "source": [
    "zk.stop()\n",
    "zk.close()"
   ]
  }
 ],
 "metadata": {
  "kernelspec": {
   "display_name": "sgds",
   "language": "python",
   "name": "sgds"
  },
  "language_info": {
   "codemirror_mode": {
    "name": "ipython",
    "version": 3
   },
   "file_extension": ".py",
   "mimetype": "text/x-python",
   "name": "python",
   "nbconvert_exporter": "python",
   "pygments_lexer": "ipython3",
   "version": "3.7.7"
  }
 },
 "nbformat": 4,
 "nbformat_minor": 4
}
