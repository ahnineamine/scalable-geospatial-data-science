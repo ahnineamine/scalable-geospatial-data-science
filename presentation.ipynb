{
 "cells": [
  {
   "cell_type": "markdown",
   "metadata": {
    "slideshow": {
     "slide_type": "slide"
    }
   },
   "source": [
    "# Scalable Geospatial (Vector) Data Science\n",
    "\n",
    "### Nikolai Janakiev [@njanakiev](https://github.com/njanakiev)"
   ]
  },
  {
   "cell_type": "markdown",
   "metadata": {
    "slideshow": {
     "slide_type": "slide"
    }
   },
   "source": [
    "# (Geospatial) Big Data"
   ]
  },
  {
   "cell_type": "markdown",
   "metadata": {
    "slideshow": {
     "slide_type": "fragment"
    }
   },
   "source": [
    "### OpenStreetMap\n",
    "\n",
    "- __6,140,639,049__ nodes\n",
    "- __677,822,881__ ways\n",
    "- __7,940,285__ relations\n",
    "\n",
    "[www.openstreetmap.org/stats/data_stats.html](https://www.openstreetmap.org/stats/data_stats.html)"
   ]
  },
  {
   "cell_type": "markdown",
   "metadata": {
    "slideshow": {
     "slide_type": "skip"
    }
   },
   "source": [
    "### NYC Taxi & Limousine Commission\n",
    "\n",
    "- __1.5 billion__ rows (__50 GB__) from 2009 to 2018\n",
    "\n",
    "[azure.microsoft.com/en-us/services/open-datasets/catalog/nyc-taxi-limousine-commission-yellow-taxi-trip-records/](https://azure.microsoft.com/en-us/services/open-datasets/catalog/nyc-taxi-limousine-commission-yellow-taxi-trip-records/)"
   ]
  },
  {
   "cell_type": "markdown",
   "metadata": {
    "slideshow": {
     "slide_type": "slide"
    }
   },
   "source": [
    "![PostgreSQL](assets/postgresql.jpeg)"
   ]
  },
  {
   "cell_type": "markdown",
   "metadata": {
    "slideshow": {
     "slide_type": "slide"
    }
   },
   "source": [
    "# PostgreSQL and PostGIS"
   ]
  },
  {
   "cell_type": "markdown",
   "metadata": {
    "slideshow": {
     "slide_type": "fragment"
    }
   },
   "source": [
    "### PostgreSQL Parallelization\n",
    "\n",
    "- Since __PostgreSQL 9.6__ (2016)\n",
    "- Enabled by default since __PostgreSQL 10__ (2017)"
   ]
  },
  {
   "cell_type": "markdown",
   "metadata": {
    "slideshow": {
     "slide_type": "fragment"
    }
   },
   "source": [
    "### PostGIS Parallelization\n",
    "\n",
    "- With tweaks since __PostgreSQL 11__ and __PostGIS 2.5__ \n",
    "- Out of the box since __Postgres 12__ and __PostGIS 3__"
   ]
  },
  {
   "cell_type": "markdown",
   "metadata": {
    "slideshow": {
     "slide_type": "slide"
    }
   },
   "source": [
    "# Scaling Postgres"
   ]
  },
  {
   "cell_type": "markdown",
   "metadata": {
    "slideshow": {
     "slide_type": "fragment"
    }
   },
   "source": [
    "### Columnar Storage (Foreign Data Wrapper)\n",
    "\n",
    "- cstore_fdw - [citusdata.github.io/cstore_fdw/](https://citusdata.github.io/cstore_fdw/)"
   ]
  },
  {
   "cell_type": "markdown",
   "metadata": {
    "slideshow": {
     "slide_type": "fragment"
    }
   },
   "source": [
    "### GPU Processing\n",
    "\n",
    "- PG-Strom - [heterodb.github.io/pg-strom](http://heterodb.github.io/pg-strom/)"
   ]
  },
  {
   "cell_type": "markdown",
   "metadata": {
    "slideshow": {
     "slide_type": "fragment"
    }
   },
   "source": [
    "### Distributed PostgreSQL\n",
    "\n",
    "- CitusDB - [github.com/citusdata/citus](https://github.com/citusdata/citus)\n",
    "- Postgres-XL - [www.postgres-xl.org](https://www.postgres-xl.org/)"
   ]
  },
  {
   "cell_type": "markdown",
   "metadata": {
    "slideshow": {
     "slide_type": "slide"
    }
   },
   "source": [
    "![Hadoop](assets/hadoop.png)"
   ]
  },
  {
   "cell_type": "markdown",
   "metadata": {
    "slideshow": {
     "slide_type": "slide"
    }
   },
   "source": [
    "# Big Data"
   ]
  },
  {
   "cell_type": "markdown",
   "metadata": {
    "slideshow": {
     "slide_type": "fragment"
    }
   },
   "source": [
    "- __2003__ Google - [The Google File System](https://static.googleusercontent.com/media/research.google.com/en//archive/gfs-sosp2003.pdf)"
   ]
  },
  {
   "cell_type": "markdown",
   "metadata": {
    "slideshow": {
     "slide_type": "fragment"
    }
   },
   "source": [
    "- __2004__ Google - [MapReduce: Simplified Data Processing on Large Clusters](https://static.usenix.org/publications/library/proceedings/osdi04/tech/full_papers/dean/dean.pdf)"
   ]
  },
  {
   "cell_type": "markdown",
   "metadata": {
    "slideshow": {
     "slide_type": "fragment"
    }
   },
   "source": [
    "- __2006__ Apache Nuts - Hadoop"
   ]
  },
  {
   "cell_type": "markdown",
   "metadata": {
    "slideshow": {
     "slide_type": "fragment"
    }
   },
   "source": [
    "- __2008__ Apache Foundation Project"
   ]
  },
  {
   "cell_type": "markdown",
   "metadata": {
    "slideshow": {
     "slide_type": "slide"
    }
   },
   "source": [
    "## Hadoop Distributed File System (HDFS)"
   ]
  },
  {
   "cell_type": "markdown",
   "metadata": {
    "slideshow": {
     "slide_type": "fragment"
    }
   },
   "source": [
    "## Hadoop MapReduce"
   ]
  },
  {
   "cell_type": "markdown",
   "metadata": {
    "slideshow": {
     "slide_type": "fragment"
    }
   },
   "source": [
    "## Hadoop YARN"
   ]
  },
  {
   "cell_type": "markdown",
   "metadata": {
    "slideshow": {
     "slide_type": "skip"
    }
   },
   "source": [
    "# Apache Spark"
   ]
  },
  {
   "cell_type": "markdown",
   "metadata": {
    "slideshow": {
     "slide_type": "skip"
    }
   },
   "source": [
    "- Created 2009, open sourced 2010"
   ]
  },
  {
   "cell_type": "markdown",
   "metadata": {
    "slideshow": {
     "slide_type": "skip"
    }
   },
   "source": [
    "- __2010__ - [Spark: Cluster Computing with Working Sets](https://www.usenix.org/legacy/event/hotcloud10/tech/full_papers/Zaharia.pdf)"
   ]
  },
  {
   "cell_type": "markdown",
   "metadata": {
    "slideshow": {
     "slide_type": "skip"
    }
   },
   "source": [
    "- distributed computation engine, written in Scala, with bindings for Java, Python, and R"
   ]
  },
  {
   "cell_type": "markdown",
   "metadata": {
    "slideshow": {
     "slide_type": "slide"
    }
   },
   "source": [
    "# GeoMesa\n",
    "\n",
    "[geomesa.org](https://www.geomesa.org/)"
   ]
  },
  {
   "cell_type": "markdown",
   "metadata": {},
   "source": [
    "### Spatial Indexing\n",
    "\n",
    "- 2d/3d Space Filling Curve"
   ]
  },
  {
   "cell_type": "markdown",
   "metadata": {
    "slideshow": {
     "slide_type": "fragment"
    }
   },
   "source": [
    "### Database\n",
    "\n",
    "- [Apache Accumulo](https://accumulo.apache.org/)\n",
    "- [Apache HBase](https://hbase.apache.org/)\n",
    "- [Apache Cassandra](https://cassandra.apache.org/)"
   ]
  },
  {
   "cell_type": "markdown",
   "metadata": {
    "slideshow": {
     "slide_type": "slide"
    }
   },
   "source": [
    "# LocationTech\n",
    "\n",
    "[projects.eclipse.org/projects/locationtech](https://projects.eclipse.org/projects/locationtech)"
   ]
  },
  {
   "cell_type": "markdown",
   "metadata": {
    "slideshow": {
     "slide_type": "fragment"
    }
   },
   "source": [
    "- [GeoWave](https://locationtech.github.io/geowave/)"
   ]
  },
  {
   "cell_type": "markdown",
   "metadata": {
    "slideshow": {
     "slide_type": "fragment"
    }
   },
   "source": [
    "- [GeoTrellis](https://geotrellis.io/)"
   ]
  },
  {
   "cell_type": "markdown",
   "metadata": {
    "slideshow": {
     "slide_type": "fragment"
    }
   },
   "source": [
    "- [RasterFrames](https://rasterframes.io/)"
   ]
  },
  {
   "cell_type": "markdown",
   "metadata": {
    "slideshow": {
     "slide_type": "fragment"
    }
   },
   "source": [
    "- [JTS Topology Suite](https://locationtech.github.io/jts/)"
   ]
  },
  {
   "cell_type": "markdown",
   "metadata": {
    "slideshow": {
     "slide_type": "slide"
    }
   },
   "source": [
    "# Beyond the Elephants"
   ]
  },
  {
   "cell_type": "markdown",
   "metadata": {
    "slideshow": {
     "slide_type": "slide"
    }
   },
   "source": [
    "# Presto\n",
    "\n",
    "[prestodb.io](https://prestodb.io/)\n",
    "\n",
    "- Distributed SQL Query Engine for Big Data"
   ]
  },
  {
   "cell_type": "markdown",
   "metadata": {
    "slideshow": {
     "slide_type": "fragment"
    }
   },
   "source": [
    "- [Presto Connectors](https://prestodb.io/docs/current/connector.html) - connectors to most common SQL and NoSQL databases"
   ]
  },
  {
   "cell_type": "markdown",
   "metadata": {
    "slideshow": {
     "slide_type": "fragment"
    }
   },
   "source": [
    "- [Geospatial Functions](https://prestodb.io/docs/current/functions/geospatial.html) - various common `ST_` functions available "
   ]
  },
  {
   "cell_type": "markdown",
   "metadata": {
    "slideshow": {
     "slide_type": "slide"
    }
   },
   "source": [
    "# Dask\n",
    "\n",
    "[dask.org](https://dask.org/)\n",
    "\n",
    "- parallel and distributed computing library for analytics written in Python"
   ]
  },
  {
   "cell_type": "markdown",
   "metadata": {
    "slideshow": {
     "slide_type": "fragment"
    }
   },
   "source": [
    "# GeoPandas\n",
    "\n",
    "[geopandas.org](https://geopandas.org/)\n",
    "\n",
    "-  xtends the datatypes used by pandas to allow spatial operations on geometric types"
   ]
  },
  {
   "cell_type": "markdown",
   "metadata": {
    "slideshow": {
     "slide_type": "slide"
    }
   },
   "source": [
    "# ElasticSearch"
   ]
  },
  {
   "cell_type": "markdown",
   "metadata": {
    "slideshow": {
     "slide_type": "fragment"
    }
   },
   "source": [
    "### Geo Point Indexing\n",
    "\n",
    "[Geo-point datatype](https://www.elastic.co/guide/en/elasticsearch/reference/current/geo-point.html)\n",
    "\n",
    "- BKD-trees\n",
    "- 2019 - [BKD-backed geo_shapes in Elasticsearch: precision + efficiency + speed](https://www.elastic.co/blog/bkd-backed-geo-shapes-in-elasticsearch-precision-efficiency-speed)"
   ]
  },
  {
   "cell_type": "markdown",
   "metadata": {
    "slideshow": {
     "slide_type": "fragment"
    }
   },
   "source": [
    "### Geo Queries\n",
    "\n",
    "[ElasticSearch - Geo queries](https://www.elastic.co/guide/en/elasticsearch/reference/current/geo-queries.html)\n",
    "\n",
    "- `geo_bounding_box` query\n",
    "- `geo_distance` query\n",
    "- `geo_polygon` query\n",
    "- `geo_shape` query"
   ]
  },
  {
   "cell_type": "markdown",
   "metadata": {
    "slideshow": {
     "slide_type": "slide"
    }
   },
   "source": [
    "# MongoDB\n",
    "\n",
    "- [mongodb.com](https://www.mongodb.com/)\n",
    "- Supports [GeoJSON Object](https://docs.mongodb.com/manual/reference/geojson/)"
   ]
  },
  {
   "cell_type": "markdown",
   "metadata": {
    "slideshow": {
     "slide_type": "fragment"
    }
   },
   "source": [
    "### Geospatial Index\n",
    "\n",
    "- [2d Index](https://docs.mongodb.com/manual/core/2d/), [2d Index Internals](https://docs.mongodb.com/manual/core/geospatial-indexes/) - Uses GeoHash Indexing\n",
    "- [2d Sphere Index](https://docs.mongodb.com/manual/core/2dsphere/)\n",
    "- [geoHaystack Indexes](https://docs.mongodb.com/manual/core/geohaystack/) - Special index that is optimized to return results over small areas"
   ]
  },
  {
   "cell_type": "markdown",
   "metadata": {
    "slideshow": {
     "slide_type": "fragment"
    }
   },
   "source": [
    "### Geospatial Queries\n",
    "\n",
    "- `$geoIntersects`\n",
    "- `$geoWithin`\n",
    "- `$near`\n",
    "- `$nearSphere`\n",
    "- `$geoNear`\n",
    "\n",
    "[Geospatial Queries](https://docs.mongodb.com/manual/geospatial-queries/)"
   ]
  },
  {
   "cell_type": "markdown",
   "metadata": {
    "slideshow": {
     "slide_type": "slide"
    }
   },
   "source": [
    "# Redis\n",
    "\n",
    "[redis.io](https://redis.io/)"
   ]
  },
  {
   "cell_type": "markdown",
   "metadata": {
    "slideshow": {
     "slide_type": "fragment"
    }
   },
   "source": [
    "- in-memory data structure store, used as a database, cache and message broker\n",
    "- Lyft 10 million QPS\n",
    "- [Geohash](https://en.wikipedia.org/wiki/Geohash) Indexing"
   ]
  },
  {
   "cell_type": "markdown",
   "metadata": {
    "slideshow": {
     "slide_type": "fragment"
    }
   },
   "source": [
    "### Geospatial Commands\n",
    "\n",
    "- [GEOADD](https://redis.io/commands/geoadd)\n",
    "- [GEOHASH](https://redis.io/commands/geohash)\n",
    "- [GEODIST](https://redis.io/commands/geodist)\n",
    "- [GEORADIUS](https://redis.io/commands/georadius)\n",
    "- [GEORADIUSBYMEMBER](https://redis.io/commands/georadiusbymember)\n",
    "\n",
    "[Redis Best Practices - Geospatial](https://redislabs.com/redis-best-practices/indexing-patterns/geospatial/)"
   ]
  },
  {
   "cell_type": "markdown",
   "metadata": {
    "slideshow": {
     "slide_type": "slide"
    }
   },
   "source": [
    "# Scalable Geospatial Data Science\n",
    "\n",
    "### Nikolai Janakiev [@njanakiev](https://github.com/njanakiev)\n",
    "\n",
    "- Slides - [janakiev.com/scalable-geospatial-data-science](https://janakiev.com/scalable-geospatial-data-science)\n",
    "- Benchmark (2017) - [Benchmarking of Big Data Technologies for Ingesting and Querying Geospatial Datasets](https://www.reply.com/en/topics/big-data-and-analytics/Shared%20Documents/DSTL-Report-Data-Reply-2017.pdf)\n",
    "- MDPI 2020 - [State-of-the-Art Geospatial Information Processing inNoSQL Databases](https://www.mdpi.com/2220-9964/9/5/331/pdf)\n",
    "- [Summary of the 1.1 Billion Taxi Rides Benchmarks](https://tech.marksblogg.com/benchmarks.html)"
   ]
  }
 ],
 "metadata": {
  "celltoolbar": "Slideshow",
  "kernelspec": {
   "display_name": "Python 3",
   "language": "python",
   "name": "python3"
  },
  "language_info": {
   "codemirror_mode": {
    "name": "ipython",
    "version": 3
   },
   "file_extension": ".py",
   "mimetype": "text/x-python",
   "name": "python",
   "nbconvert_exporter": "python",
   "pygments_lexer": "ipython3",
   "version": "3.7.4"
  }
 },
 "nbformat": 4,
 "nbformat_minor": 2
}
