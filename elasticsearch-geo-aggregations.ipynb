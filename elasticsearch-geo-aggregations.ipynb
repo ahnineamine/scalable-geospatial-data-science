{
 "cells": [
  {
   "cell_type": "markdown",
   "metadata": {},
   "source": [
    "# Geospatial Elasticsearch Geo Aggregations with Python"
   ]
  },
  {
   "cell_type": "code",
   "execution_count": 1,
   "metadata": {},
   "outputs": [],
   "source": [
    "%matplotlib inline"
   ]
  },
  {
   "cell_type": "code",
   "execution_count": 5,
   "metadata": {},
   "outputs": [],
   "source": [
    "import os\n",
    "import json\n",
    "import numpy as np\n",
    "import pandas as pd\n",
    "import matplotlib.pyplot as plt\n",
    "\n",
    "import pyproj\n",
    "import shapely.geometry\n",
    "import geopandas as gpd\n",
    "\n",
    "from pprint import pprint\n",
    "from dotenv import load_dotenv\n",
    "from elasticsearch import Elasticsearch\n",
    "\n",
    "load_dotenv(\".env\");"
   ]
  },
  {
   "cell_type": "code",
   "execution_count": 3,
   "metadata": {},
   "outputs": [],
   "source": [
    "#filepath = \"/home/hadoop/sgds/data/naturalearth/\" \\\n",
    "#           \"ne_10m_admin_0_countries.shp\"\n",
    "filepath = \"/home/hadoop/sgds/data/naturalearth/\" \\\n",
    "           \"ne_110m_admin_0_countries.shp\"\n",
    "\n",
    "gdf_ne = gpd.read_file(filepath)"
   ]
  },
  {
   "cell_type": "code",
   "execution_count": 6,
   "metadata": {},
   "outputs": [],
   "source": [
    "es = Elasticsearch(hosts=['http://{}:{}@{}:{}'.format(\n",
    "    os.environ[\"ES_USERNAME\"],\n",
    "    os.environ[\"ES_PASSWORD\"],\n",
    "    os.environ[\"ES_HOST\"],\n",
    "    os.environ[\"ES_PORT\"],\n",
    ")])"
   ]
  },
  {
   "cell_type": "code",
   "execution_count": 7,
   "metadata": {},
   "outputs": [
    {
     "data": {
      "text/plain": [
       "{'count': 24330238,\n",
       " '_shards': {'total': 5, 'successful': 5, 'skipped': 0, 'failed': 0}}"
      ]
     },
     "execution_count": 7,
     "metadata": {},
     "output_type": "execute_result"
    }
   ],
   "source": [
    "es.count(index='gdelt_custom_2020')"
   ]
  },
  {
   "cell_type": "markdown",
   "metadata": {},
   "source": [
    "# Geohash Grid Aggregation\n",
    "\n",
    "- [Geohash Grid Aggregation](https://www.elastic.co/guide/en/elasticsearch/reference/current/search-aggregations-bucket-geohashgrid-aggregation.html)"
   ]
  },
  {
   "cell_type": "code",
   "execution_count": 6,
   "metadata": {},
   "outputs": [
    {
     "name": "stdout",
     "output_type": "stream",
     "text": [
      "total 10000\n",
      "CPU times: user 0 ns, sys: 3.8 ms, total: 3.8 ms\n",
      "Wall time: 49.5 ms\n"
     ]
    }
   ],
   "source": [
    "%%time\n",
    "result = es.search(index='gdelt_custom_2020', body={\n",
    "    #\"size\": 10000,\n",
    "    \"size\": 0,\n",
    "    \"query\": {\n",
    "        \"bool\": {\n",
    "            \"must\": [],\n",
    "            \"must_not\": []\n",
    "        }\n",
    "    },\n",
    "    \"aggs\": {\n",
    "        \"scene-grid\": {\n",
    "            \"geohash_grid\": {\n",
    "                \"field\": \"location\",\n",
    "                \"precision\": 2\n",
    "            }\n",
    "        }\n",
    "    }\n",
    "})\n",
    "\n",
    "print('total', result['hits']['total']['value'])"
   ]
  },
  {
   "cell_type": "code",
   "execution_count": 7,
   "metadata": {},
   "outputs": [
    {
     "name": "stdout",
     "output_type": "stream",
     "text": [
      "<class 'pandas.core.frame.DataFrame'>\n",
      "RangeIndex: 293 entries, 0 to 292\n",
      "Data columns (total 2 columns):\n",
      " #   Column     Non-Null Count  Dtype \n",
      "---  ------     --------------  ----- \n",
      " 0   key        293 non-null    object\n",
      " 1   doc_count  293 non-null    int64 \n",
      "dtypes: int64(1), object(1)\n",
      "memory usage: 19.3 KB\n"
     ]
    },
    {
     "data": {
      "text/html": [
       "<div>\n",
       "<style scoped>\n",
       "    .dataframe tbody tr th:only-of-type {\n",
       "        vertical-align: middle;\n",
       "    }\n",
       "\n",
       "    .dataframe tbody tr th {\n",
       "        vertical-align: top;\n",
       "    }\n",
       "\n",
       "    .dataframe thead th {\n",
       "        text-align: right;\n",
       "    }\n",
       "</style>\n",
       "<table border=\"1\" class=\"dataframe\">\n",
       "  <thead>\n",
       "    <tr style=\"text-align: right;\">\n",
       "      <th></th>\n",
       "      <th>key</th>\n",
       "      <th>doc_count</th>\n",
       "    </tr>\n",
       "  </thead>\n",
       "  <tbody>\n",
       "    <tr>\n",
       "      <th>0</th>\n",
       "      <td>dr</td>\n",
       "      <td>6483</td>\n",
       "    </tr>\n",
       "    <tr>\n",
       "      <th>1</th>\n",
       "      <td>sv</td>\n",
       "      <td>5964</td>\n",
       "    </tr>\n",
       "    <tr>\n",
       "      <th>2</th>\n",
       "      <td>dq</td>\n",
       "      <td>4413</td>\n",
       "    </tr>\n",
       "    <tr>\n",
       "      <th>3</th>\n",
       "      <td>gc</td>\n",
       "      <td>4072</td>\n",
       "    </tr>\n",
       "    <tr>\n",
       "      <th>4</th>\n",
       "      <td>dp</td>\n",
       "      <td>3603</td>\n",
       "    </tr>\n",
       "  </tbody>\n",
       "</table>\n",
       "</div>"
      ],
      "text/plain": [
       "  key  doc_count\n",
       "0  dr       6483\n",
       "1  sv       5964\n",
       "2  dq       4413\n",
       "3  gc       4072\n",
       "4  dp       3603"
      ]
     },
     "execution_count": 7,
     "metadata": {},
     "output_type": "execute_result"
    }
   ],
   "source": [
    "df = pd.DataFrame(result['aggregations']['scene-grid']['buckets'])\n",
    "df.info(memory_usage='deep')\n",
    "df.head()"
   ]
  },
  {
   "cell_type": "code",
   "execution_count": 8,
   "metadata": {},
   "outputs": [],
   "source": [
    "import geohash\n",
    "import shapely.geometry"
   ]
  },
  {
   "cell_type": "code",
   "execution_count": 9,
   "metadata": {},
   "outputs": [
    {
     "name": "stdout",
     "output_type": "stream",
     "text": [
      "CPU times: user 6.88 ms, sys: 3.54 ms, total: 10.4 ms\n",
      "Wall time: 7.64 ms\n"
     ]
    }
   ],
   "source": [
    "%%time\n",
    "def get_geohash_geometry(gh_code):\n",
    "    coords = geohash.bbox(gh_code)\n",
    "    # (minx, miny, maxx, maxy)\n",
    "    extent = [coords['w'], coords['s'], \n",
    "              coords['e'], coords['n']]\n",
    "    return shapely.geometry.box(*extent)\n",
    "\n",
    "df['geom'] = df['key'].apply(get_geohash_geometry)"
   ]
  },
  {
   "cell_type": "code",
   "execution_count": 10,
   "metadata": {},
   "outputs": [
    {
     "data": {
      "image/png": "[encoded data removed]",
      "text/plain": [
       "<Figure size 864x864 with 1 Axes>"
      ]
     },
     "metadata": {
      "needs_background": "light"
     },
     "output_type": "display_data"
    }
   ],
   "source": [
    "gdf = gpd.GeoDataFrame(df, geometry='geom', crs='epsg:4326')\n",
    "\n",
    "mask = gdf.geom.apply(lambda g: g.centroid.y > -80)\n",
    "\n",
    "gdf[mask].to_crs(epsg=3857).plot(figsize=(12, 12), \n",
    "                                 column='doc_count', \n",
    "                                 cmap='viridis', \n",
    "                                 scheme='naturalbreaks', k=5);"
   ]
  },
  {
   "cell_type": "markdown",
   "metadata": {},
   "source": [
    "# GeoTile Grid Aggregation\n",
    "\n",
    "> A multi-bucket aggregation that works on `geo_point` fields and groups points into buckets that represent cells in a grid. The resulting grid can be sparse and only contains cells that have matching data. Each cell corresponds to a [map tile](https://en.wikipedia.org/wiki/Tiled_web_map) as used by many online map sites. Each cell is labeled using a \"{zoom}/{x}/{y}\" format, where zoom is equal to the user-specified precision.\n",
    "\n",
    "- [GeoTile Grid Aggregation](https://www.elastic.co/guide/en/elasticsearch/reference/current/search-aggregations-bucket-geotilegrid-aggregation.html)\n",
    "- OpenStreetMap Wiki - [Slippy Map](https://wiki.openstreetmap.org/wiki/Slippy_Map)\n",
    "- OpenStreetMap Wiki - [Slippy map tilenames](https://wiki.openstreetmap.org/wiki/Slippy_map_tilenames)\n",
    "- Github - [mapbox/mercantile](https://github.com/mapbox/mercantile)"
   ]
  },
  {
   "cell_type": "code",
   "execution_count": 56,
   "metadata": {},
   "outputs": [
    {
     "name": "stdout",
     "output_type": "stream",
     "text": [
      "total 10000\n",
      "CPU times: user 8.1 ms, sys: 0 ns, total: 8.1 ms\n",
      "Wall time: 208 ms\n"
     ]
    }
   ],
   "source": [
    "%%time\n",
    "EXTENT = [-126.6,23.1,-64.4,49.3]\n",
    "\n",
    "result = es.search(index='gdelt_custom_2020', body={\n",
    "    #\"size\": 10000,\n",
    "    \"size\": 0,\n",
    "    \"query\": {\n",
    "        \"bool\": {\n",
    "            \"must\": [],\n",
    "            \"must_not\": [],\n",
    "            #\"filter\" : {\n",
    "            #    \"geo_bounding_box\" : {\n",
    "            #        \"location\" : {\n",
    "            #            \"top_left\" : [EXTENT[0], EXTENT[3]],\n",
    "            #            \"bottom_right\" : [EXTENT[2], EXTENT[1]]\n",
    "            #        }\n",
    "            #    }\n",
    "            #}\n",
    "        }\n",
    "    },\n",
    "    \"aggs\": {\n",
    "        \"scene-grid\": {\n",
    "            \"geotile_grid\": {\n",
    "                \"field\": \"location\",\n",
    "                \"precision\": 6\n",
    "            }\n",
    "        }\n",
    "    }\n",
    "})\n",
    "\n",
    "print('total', result['hits']['total']['value'])"
   ]
  },
  {
   "cell_type": "code",
   "execution_count": 57,
   "metadata": {},
   "outputs": [
    {
     "name": "stdout",
     "output_type": "stream",
     "text": [
      "<class 'pandas.core.frame.DataFrame'>\n",
      "RangeIndex: 512 entries, 0 to 511\n",
      "Data columns (total 2 columns):\n",
      " #   Column     Non-Null Count  Dtype \n",
      "---  ------     --------------  ----- \n",
      " 0   key        512 non-null    object\n",
      " 1   doc_count  512 non-null    int64 \n",
      "dtypes: int64(1), object(1)\n",
      "memory usage: 36.1 KB\n"
     ]
    },
    {
     "data": {
      "text/html": [
       "<div>\n",
       "<style scoped>\n",
       "    .dataframe tbody tr th:only-of-type {\n",
       "        vertical-align: middle;\n",
       "    }\n",
       "\n",
       "    .dataframe tbody tr th {\n",
       "        vertical-align: top;\n",
       "    }\n",
       "\n",
       "    .dataframe thead th {\n",
       "        text-align: right;\n",
       "    }\n",
       "</style>\n",
       "<table border=\"1\" class=\"dataframe\">\n",
       "  <thead>\n",
       "    <tr style=\"text-align: right;\">\n",
       "      <th></th>\n",
       "      <th>key</th>\n",
       "      <th>doc_count</th>\n",
       "    </tr>\n",
       "  </thead>\n",
       "  <tbody>\n",
       "    <tr>\n",
       "      <th>0</th>\n",
       "      <td>6/18/24</td>\n",
       "      <td>5709</td>\n",
       "    </tr>\n",
       "    <tr>\n",
       "      <th>1</th>\n",
       "      <td>6/39/25</td>\n",
       "      <td>3796</td>\n",
       "    </tr>\n",
       "    <tr>\n",
       "      <th>2</th>\n",
       "      <td>6/41/25</td>\n",
       "      <td>3118</td>\n",
       "    </tr>\n",
       "    <tr>\n",
       "      <th>3</th>\n",
       "      <td>6/18/23</td>\n",
       "      <td>2707</td>\n",
       "    </tr>\n",
       "    <tr>\n",
       "      <th>4</th>\n",
       "      <td>6/19/23</td>\n",
       "      <td>2365</td>\n",
       "    </tr>\n",
       "  </tbody>\n",
       "</table>\n",
       "</div>"
      ],
      "text/plain": [
       "       key  doc_count\n",
       "0  6/18/24       5709\n",
       "1  6/39/25       3796\n",
       "2  6/41/25       3118\n",
       "3  6/18/23       2707\n",
       "4  6/19/23       2365"
      ]
     },
     "execution_count": 57,
     "metadata": {},
     "output_type": "execute_result"
    }
   ],
   "source": [
    "df = pd.DataFrame(result['aggregations']['scene-grid']['buckets'])\n",
    "df.info(memory_usage='deep')\n",
    "df.head()"
   ]
  },
  {
   "cell_type": "code",
   "execution_count": 58,
   "metadata": {},
   "outputs": [],
   "source": [
    "df[['z', 'x', 'y']] = df['key'].apply(\n",
    "    lambda k: pd.Series([int(k) for k in k.split('/')], \n",
    "                        index=['z', 'x', 'y']))"
   ]
  },
  {
   "cell_type": "code",
   "execution_count": 59,
   "metadata": {},
   "outputs": [],
   "source": [
    "def xyz_tile_to_bbox(x, y, z):\n",
    "    n = 2**z\n",
    "    lon_deg0 = x / n * 360.0 - 180.0\n",
    "    lat_rad0 = np.arctan(np.sinh(np.pi * (1 - 2 * y / n)))\n",
    "    lat_deg0 = lat_rad0 * 180.0 / np.pi\n",
    "    lon_deg1 = (x + 1) / n * 360.0 - 180.0\n",
    "    lat_rad1 = np.arctan(np.sinh(np.pi * (1 - 2 * (y + 1) / n)))\n",
    "    lat_deg1 = lat_rad1 * 180.0 / np.pi\n",
    "    \n",
    "    # [W, S, E, N]\n",
    "    extent = [lon_deg0, lat_deg1, lon_deg1, lat_deg0]\n",
    "    return shapely.geometry.box(*extent)"
   ]
  },
  {
   "cell_type": "code",
   "execution_count": 60,
   "metadata": {},
   "outputs": [],
   "source": [
    "df['geom'] = df.apply(\n",
    "    lambda row: xyz_tile_to_bbox(row['x'], row['y'], row['z']), axis=1)"
   ]
  },
  {
   "cell_type": "code",
   "execution_count": 61,
   "metadata": {},
   "outputs": [
    {
     "data": {
      "image/png": "[encoded data removed]",
      "text/plain": [
       "<Figure size 864x864 with 1 Axes>"
      ]
     },
     "metadata": {
      "needs_background": "light"
     },
     "output_type": "display_data"
    }
   ],
   "source": [
    "gdf = gpd.GeoDataFrame(df, geometry='geom', crs='epsg:4326')\n",
    "\n",
    "mask = gdf.geom.apply(lambda g: g.centroid.y > -80)\n",
    "\n",
    "gdf[mask].to_crs(epsg=3857).plot(figsize=(12, 12), \n",
    "                                 column='doc_count', \n",
    "                                 cmap='viridis', \n",
    "                                 scheme='naturalbreaks', k=5);"
   ]
  },
  {
   "cell_type": "markdown",
   "metadata": {},
   "source": [
    "# Geo Bounds Aggregation\n",
    "\n",
    "> A metric aggregation that computes the bounding box containing all geo values for a field.\n",
    "\n",
    "- [Geo Bounds Aggregation](https://www.elastic.co/guide/en/elasticsearch/reference/current/search-aggregations-metrics-geobounds-aggregation.html)"
   ]
  },
  {
   "cell_type": "code",
   "execution_count": 73,
   "metadata": {},
   "outputs": [
    {
     "name": "stdout",
     "output_type": "stream",
     "text": [
      "total 10000\n",
      "CPU times: user 3.82 ms, sys: 396 µs, total: 4.21 ms\n",
      "Wall time: 359 ms\n"
     ]
    }
   ],
   "source": [
    "%%time\n",
    "result = es.search(index='gdelt_custom_2020', body={\n",
    "    #\"size\": 10000,\n",
    "    \"size\": 0,\n",
    "    \"aggs\": {\n",
    "        \"viewport\": {\n",
    "            \"geo_bounds\": {\n",
    "                \"field\": \"location\",    \n",
    "                \"wrap_longitude\": True  \n",
    "            }\n",
    "        }\n",
    "    }\n",
    "})\n",
    "\n",
    "print('total', result['hits']['total']['value'])"
   ]
  },
  {
   "cell_type": "code",
   "execution_count": 76,
   "metadata": {},
   "outputs": [
    {
     "name": "stdout",
     "output_type": "stream",
     "text": [
      "{'viewport': {'bounds': {'bottom_right': {'lat': -85.62210003845394,\n",
      "                                          'lon': 179.33299999684095},\n",
      "                         'top_left': {'lat': 71.9999999832362,\n",
      "                                      'lon': -176.5330000128597}}}}\n"
     ]
    }
   ],
   "source": [
    "pprint(result['aggregations'])"
   ]
  },
  {
   "cell_type": "markdown",
   "metadata": {},
   "source": [
    "# Geo Centroid Aggregation\n",
    "\n",
    "> A metric aggregation that computes the weighted [centroid](https://en.wikipedia.org/wiki/Centroid) from all coordinate values for a [Geo-point datatype](https://www.elastic.co/guide/en/elasticsearch/reference/6.8/geo-point.html) field.\n",
    "\n",
    "- [Geo Centroid Aggregation](https://www.elastic.co/guide/en/elasticsearch/reference/6.8/search-aggregations-metrics-geocentroid-aggregation.html)"
   ]
  },
  {
   "cell_type": "code",
   "execution_count": 68,
   "metadata": {},
   "outputs": [
    {
     "name": "stdout",
     "output_type": "stream",
     "text": [
      "total 10000\n",
      "CPU times: user 4.18 ms, sys: 0 ns, total: 4.18 ms\n",
      "Wall time: 216 ms\n"
     ]
    }
   ],
   "source": [
    "%%time\n",
    "result = es.search(index='gdelt_custom_2020', body={\n",
    "    #\"size\": 10000,\n",
    "    \"size\": 0,\n",
    "    \"aggs\": {\n",
    "        \"centroid\": {\n",
    "            \"geo_centroid\": {\n",
    "                \"field\": \"location\",    \n",
    "            }\n",
    "        }\n",
    "    }\n",
    "})\n",
    "\n",
    "print('total', result['hits']['total']['value'])"
   ]
  },
  {
   "cell_type": "code",
   "execution_count": 71,
   "metadata": {},
   "outputs": [
    {
     "name": "stdout",
     "output_type": "stream",
     "text": [
      "{'centroid': {'count': 97148,\n",
      "              'location': {'lat': 30.46608442130391,\n",
      "                           'lon': 0.35541025303929935}}}\n"
     ]
    }
   ],
   "source": [
    "pprint(result['aggregations'])"
   ]
  },
  {
   "cell_type": "markdown",
   "metadata": {},
   "source": [
    "# Geo Distance Aggregation\n",
    "\n",
    "> A multi-bucket aggregation that works on `geo_point` fields and conceptually works very similar to the [range](https://www.elastic.co/guide/en/elasticsearch/reference/current/search-aggregations-bucket-range-aggregation.html) aggregation. The user can define a point of origin and a set of distance range buckets. The aggregation evaluate the distance of each document value from the origin point and determines the buckets it belongs to based on the ranges \n",
    "\n",
    "- [Geo Distance Aggregation](https://www.elastic.co/guide/en/elasticsearch/reference/current/search-aggregations-bucket-geodistance-aggregation.html)"
   ]
  },
  {
   "cell_type": "code",
   "execution_count": 84,
   "metadata": {},
   "outputs": [
    {
     "name": "stdout",
     "output_type": "stream",
     "text": [
      "total 10000\n",
      "CPU times: user 6.03 ms, sys: 204 µs, total: 6.24 ms\n",
      "Wall time: 27.5 ms\n"
     ]
    }
   ],
   "source": [
    "%%time\n",
    "lat, lon = 48.864716, 2.349014\n",
    "\n",
    "result = es.search(index='gdelt_custom_2020', body={\n",
    "    #\"size\": 10000,\n",
    "    \"size\": 0,\n",
    "    \"aggs\": {\n",
    "        \"rings\": {\n",
    "            \"geo_distance\": {\n",
    "                \"field\": \"location\",    \n",
    "                \"origin\": {\"lat\": lat, \"lon\": lon},\n",
    "                \"unit\": \"km\",\n",
    "                \"ranges\": [\n",
    "                    {\"to\":   1000},\n",
    "                    {\"from\": 1000, \"to\": 2000},\n",
    "                    {\"from\": 2000}\n",
    "                ]\n",
    "            }\n",
    "        }\n",
    "    }\n",
    "})\n",
    "\n",
    "print('total', result['hits']['total']['value'])"
   ]
  },
  {
   "cell_type": "code",
   "execution_count": 85,
   "metadata": {},
   "outputs": [
    {
     "name": "stdout",
     "output_type": "stream",
     "text": [
      "{'rings': {'buckets': [{'doc_count': 7492,\n",
      "                        'from': 0.0,\n",
      "                        'key': '*-1000.0',\n",
      "                        'to': 1000.0},\n",
      "                       {'doc_count': 3015,\n",
      "                        'from': 1000.0,\n",
      "                        'key': '1000.0-2000.0',\n",
      "                        'to': 2000.0},\n",
      "                       {'doc_count': 86641,\n",
      "                        'from': 2000.0,\n",
      "                        'key': '2000.0-*'}]}}\n"
     ]
    }
   ],
   "source": [
    "pprint(result['aggregations'])"
   ]
  }
 ],
 "metadata": {
  "kernelspec": {
   "display_name": "gis",
   "language": "python",
   "name": "gis"
  },
  "language_info": {
   "codemirror_mode": {
    "name": "ipython",
    "version": 3
   },
   "file_extension": ".py",
   "mimetype": "text/x-python",
   "name": "python",
   "nbconvert_exporter": "python",
   "pygments_lexer": "ipython3",
   "version": "3.7.6"
  }
 },
 "nbformat": 4,
 "nbformat_minor": 4
}
