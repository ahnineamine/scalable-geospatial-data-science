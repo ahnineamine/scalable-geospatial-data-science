{
 "cells": [
  {
   "cell_type": "markdown",
   "metadata": {},
   "source": [
    "# Presto\n",
    "\n",
    "- Github - [prestodb/presto-python-client](https://github.com/prestodb/presto-python-client)\n",
    "- Github - [dropbox/PyHive](https://github.com/dropbox/PyHive)"
   ]
  },
  {
   "cell_type": "code",
   "execution_count": 2,
   "metadata": {},
   "outputs": [],
   "source": [
    "%matplotlib inline"
   ]
  },
  {
   "cell_type": "code",
   "execution_count": 3,
   "metadata": {},
   "outputs": [
    {
     "data": {
      "text/plain": [
       "('1.0.5', '0.8.0', '0.7.0')"
      ]
     },
     "execution_count": 3,
     "metadata": {},
     "output_type": "execute_result"
    }
   ],
   "source": [
    "import numpy as np\n",
    "import pandas as pd\n",
    "import shapely.wkt\n",
    "import shapely.geometry\n",
    "import geopandas as gpd\n",
    "import matplotlib.pyplot as plt\n",
    "import prestodb\n",
    "\n",
    "pd.__version__, gpd.__version__, prestodb.__version__"
   ]
  },
  {
   "cell_type": "code",
   "execution_count": 4,
   "metadata": {},
   "outputs": [],
   "source": [
    "PRESTO_CONNECTION = dict(\n",
    "    host='localhost',\n",
    "    port=8080,\n",
    "    user='hadoop',\n",
    "    catalog='hive',\n",
    "    schema='default'\n",
    ")"
   ]
  },
  {
   "cell_type": "markdown",
   "metadata": {},
   "source": [
    "## Show Hive Tables"
   ]
  },
  {
   "cell_type": "code",
   "execution_count": 4,
   "metadata": {},
   "outputs": [
    {
     "name": "stdout",
     "output_type": "stream",
     "text": [
      "gdelt_csv_2019\n",
      "gdelt_csv_2020\n",
      "gdelt_parquet_2020\n",
      "gdelt_parquet_inserted_2019\n",
      "gdelt_parquet_inserted_2020\n",
      "ne_10_states_provinces_parquet\n",
      "ne_110_countries_parquet\n"
     ]
    }
   ],
   "source": [
    "with prestodb.dbapi.connect(**PRESTO_CONNECTION) as connection:\n",
    "    cursor = connection.cursor()\n",
    "    cursor.execute(\"SHOW TABLES\")\n",
    "    for row in cursor.fetchall():\n",
    "        print(row[0])"
   ]
  },
  {
   "cell_type": "markdown",
   "metadata": {},
   "source": [
    "## Helper Function"
   ]
  },
  {
   "cell_type": "code",
   "execution_count": 5,
   "metadata": {},
   "outputs": [],
   "source": [
    "def run_query(verbose=True, **args):\n",
    "    with prestodb.dbapi.connect(**args) as connection:\n",
    "        cursor = connection.cursor()\n",
    "        cursor.execute(query)\n",
    "\n",
    "        items = cursor.fetchall()\n",
    "        columns = [v[0] for v in cursor.description]\n",
    "        df = pd.DataFrame(items, columns=columns)\n",
    "\n",
    "        if verbose:\n",
    "            stats = cursor.stats\n",
    "            print(stats['state'], 'in', stats['elapsedTimeMillis'], 'ms')\n",
    "            print('num nodes :', stats['nodes'])\n",
    "            print(\"Query :\", stats['queryId'])\n",
    "            print(\"Splits :\", stats['rootStage']['completedSplits'], \"/\", stats['rootStage']['totalSplits'])\n",
    "\n",
    "    return df"
   ]
  },
  {
   "cell_type": "code",
   "execution_count": 8,
   "metadata": {},
   "outputs": [
    {
     "name": "stdout",
     "output_type": "stream",
     "text": [
      "FINISHED in 4066 ms\n",
      "num nodes : 3\n",
      "Query : 20201010_135025_00068_vw22n\n",
      "Splits : 17 / 17\n",
      "CPU times: user 56 ms, sys: 342 µs, total: 56.4 ms\n",
      "Wall time: 4.12 s\n"
     ]
    },
    {
     "data": {
      "text/html": [
       "<div>\n",
       "<style scoped>\n",
       "    .dataframe tbody tr th:only-of-type {\n",
       "        vertical-align: middle;\n",
       "    }\n",
       "\n",
       "    .dataframe tbody tr th {\n",
       "        vertical-align: top;\n",
       "    }\n",
       "\n",
       "    .dataframe thead th {\n",
       "        text-align: right;\n",
       "    }\n",
       "</style>\n",
       "<table border=\"1\" class=\"dataframe\">\n",
       "  <thead>\n",
       "    <tr style=\"text-align: right;\">\n",
       "      <th></th>\n",
       "      <th>cnt</th>\n",
       "    </tr>\n",
       "  </thead>\n",
       "  <tbody>\n",
       "    <tr>\n",
       "      <th>0</th>\n",
       "      <td>24330238</td>\n",
       "    </tr>\n",
       "  </tbody>\n",
       "</table>\n",
       "</div>"
      ],
      "text/plain": [
       "        cnt\n",
       "0  24330238"
      ]
     },
     "execution_count": 8,
     "metadata": {},
     "output_type": "execute_result"
    }
   ],
   "source": [
    "%%time\n",
    "query = \"\"\"\n",
    "  SELECT COUNT(event_id) AS cnt \n",
    "  FROM gdelt_parquet_inserted_2020\n",
    "\"\"\"\n",
    "\n",
    "run_query(query, **PRESTO_CONNECTION)"
   ]
  },
  {
   "cell_type": "code",
   "execution_count": null,
   "metadata": {},
   "outputs": [],
   "source": [
    "%%time\n",
    "query = \"\"\"\n",
    "  EXPLAIN ANALYZE SELECT COUNT(event_id) AS cnt \n",
    "  FROM gdelt_parquet_inserted_2020\n",
    "\"\"\"\n",
    "\n",
    "with prestodb.dbapi.connect(**PRESTO_CONNECTION) as connection:\n",
    "    cursor = connection.cursor()\n",
    "    cursor.execute(query)\n",
    "    items = cursor.fetchall()\n",
    "    print(items[0][0])"
   ]
  },
  {
   "cell_type": "code",
   "execution_count": 6,
   "metadata": {},
   "outputs": [
    {
     "name": "stdout",
     "output_type": "stream",
     "text": [
      "Fragment 1 [SINGLE]\n",
      "    CPU: 24.87ms, Scheduled: 490.57ms, Input: 110 rows (990B); per task: avg.: 110.00 std.dev.: 0.00, Output: 10 rows (90B)\n",
      "    Output layout: [event_id]\n",
      "    Output partitioning: SINGLE []\n",
      "    Stage Execution Strategy: UNGROUPED_EXECUTION\n",
      "    - Limit[10] => [event_id:bigint]\n",
      "            CPU: 1.00ms (0.05%), Scheduled: 37.00ms (0.12%), Output: 10 rows (90B)\n",
      "            Input avg.: 11.00 rows, Input std.dev.: 0.00%\n",
      "        - LocalExchange[SINGLE] () => [event_id:bigint]\n",
      "                CPU: 10.00ms (0.50%), Scheduled: 131.00ms (0.41%), Output: 11 rows (99B)\n",
      "                Input avg.: 6.88 rows, Input std.dev.: 291.95%\n",
      "            - RemoteSource[2] => [event_id:bigint]\n",
      "                    CPU: 4.00ms (0.20%), Scheduled: 19.00ms (0.06%), Output: 110 rows (990B)\n",
      "                    Input avg.: 6.88 rows, Input std.dev.: 291.95%\n",
      "\n",
      "Fragment 2 [SOURCE]\n",
      "    CPU: 1.99s, Scheduled: 23.11s, Input: 285 rows (2.50kB); per task: avg.: 95.00 std.dev.: 61.64, Output: 190 rows (1.67kB)\n",
      "    Output layout: [event_id]\n",
      "    Output partitioning: SINGLE []\n",
      "    Stage Execution Strategy: UNGROUPED_EXECUTION\n",
      "    - LimitPartial[10] => [event_id:bigint]\n",
      "            CPU: 17.00ms (0.86%), Scheduled: 75.00ms (0.23%), Output: 190 rows (1.67kB)\n",
      "            Input avg.: 3.28 rows, Input std.dev.: 189.18%\n",
      "        - TableScan[TableHandle {connectorId='hive', connectorHandle='HiveTableHandle{schemaName=default, tableName=gdelt_parquet_inserted_2020, analyzePartitionValues=Optional.empty}', layout='Optional[default.gdelt_parquet_inserted_2020{}]'}, grouped = false] => [event_id:bigint]\n",
      "                CPU: 1.95s (98.38%), Scheduled: 31.87s (99.18%), Output: 285 rows (2.50kB)\n",
      "                Input avg.: 3.28 rows, Input std.dev.: 189.18%\n",
      "                LAYOUT: default.gdelt_parquet_inserted_2020{}\n",
      "                event_id := event_id:bigint:0:REGULAR\n",
      "                Input: 285 rows (2.50kB), Filtered: 0.00%\n",
      "\n",
      "\n",
      "CPU times: user 33.2 ms, sys: 5.03 ms, total: 38.3 ms\n",
      "Wall time: 8.7 s\n"
     ]
    }
   ],
   "source": [
    "%%time\n",
    "query = \"\"\"\n",
    "  EXPLAIN ANALYZE SELECT event_id\n",
    "  FROM gdelt_parquet_inserted_2020 LIMIT 10\n",
    "\"\"\"\n",
    "\n",
    "with prestodb.dbapi.connect(**PRESTO_CONNECTION) as connection:\n",
    "    cursor = connection.cursor()\n",
    "    cursor.execute(query)\n",
    "    items = cursor.fetchall()\n",
    "    print(items[0][0])"
   ]
  },
  {
   "cell_type": "code",
   "execution_count": 11,
   "metadata": {},
   "outputs": [
    {
     "name": "stdout",
     "output_type": "stream",
     "text": [
      "FINISHED in 1921 ms\n",
      "num nodes : 3\n",
      "Query : 20200921_081829_00012_vw22n\n",
      "Splits : 17 / 17\n"
     ]
    },
    {
     "data": {
      "text/html": [
       "<div>\n",
       "<style scoped>\n",
       "    .dataframe tbody tr th:only-of-type {\n",
       "        vertical-align: middle;\n",
       "    }\n",
       "\n",
       "    .dataframe tbody tr th {\n",
       "        vertical-align: top;\n",
       "    }\n",
       "\n",
       "    .dataframe thead th {\n",
       "        text-align: right;\n",
       "    }\n",
       "</style>\n",
       "<table border=\"1\" class=\"dataframe\">\n",
       "  <thead>\n",
       "    <tr style=\"text-align: right;\">\n",
       "      <th></th>\n",
       "      <th>event_id</th>\n",
       "      <th>event_root_code</th>\n",
       "      <th>lat</th>\n",
       "      <th>lon</th>\n",
       "    </tr>\n",
       "  </thead>\n",
       "  <tbody>\n",
       "    <tr>\n",
       "      <th>0</th>\n",
       "      <td>930152445</td>\n",
       "      <td>4</td>\n",
       "      <td>40.3736</td>\n",
       "      <td>-82.7755</td>\n",
       "    </tr>\n",
       "    <tr>\n",
       "      <th>1</th>\n",
       "      <td>930152446</td>\n",
       "      <td>2</td>\n",
       "      <td>40.3736</td>\n",
       "      <td>-82.7755</td>\n",
       "    </tr>\n",
       "    <tr>\n",
       "      <th>2</th>\n",
       "      <td>930152447</td>\n",
       "      <td>1</td>\n",
       "      <td>45.7326</td>\n",
       "      <td>-93.9196</td>\n",
       "    </tr>\n",
       "    <tr>\n",
       "      <th>3</th>\n",
       "      <td>930152448</td>\n",
       "      <td>8</td>\n",
       "      <td>40.5944</td>\n",
       "      <td>-111.4270</td>\n",
       "    </tr>\n",
       "    <tr>\n",
       "      <th>4</th>\n",
       "      <td>930152449</td>\n",
       "      <td>8</td>\n",
       "      <td>40.5944</td>\n",
       "      <td>-111.4270</td>\n",
       "    </tr>\n",
       "  </tbody>\n",
       "</table>\n",
       "</div>"
      ],
      "text/plain": [
       "    event_id  event_root_code      lat       lon\n",
       "0  930152445                4  40.3736  -82.7755\n",
       "1  930152446                2  40.3736  -82.7755\n",
       "2  930152447                1  45.7326  -93.9196\n",
       "3  930152448                8  40.5944 -111.4270\n",
       "4  930152449                8  40.5944 -111.4270"
      ]
     },
     "execution_count": 11,
     "metadata": {},
     "output_type": "execute_result"
    }
   ],
   "source": [
    "%%time\n",
    "query = \"\"\"\n",
    "    SELECT \n",
    "      event_id,\n",
    "      event_root_code,\n",
    "      lat,\n",
    "      lon\n",
    "    FROM gdelt_parquet_inserted_2020 \n",
    "    LIMIT 10\n",
    "\"\"\"\n",
    "\n",
    "df = run_query(query, **PRESTO_CONNECTION)\n",
    "df.head()"
   ]
  },
  {
   "cell_type": "markdown",
   "metadata": {},
   "source": [
    "# Presto Geospatial Functions\n",
    "\n",
    "- [Geospatial Functions](https://prestodb.io/docs/current/functions/geospatial.html)"
   ]
  },
  {
   "cell_type": "code",
   "execution_count": 12,
   "metadata": {},
   "outputs": [
    {
     "name": "stdout",
     "output_type": "stream",
     "text": [
      "FINISHED in 1154 ms\n",
      "num nodes : 3\n",
      "Query : 20200921_081836_00013_vw22n\n",
      "Splits : 33 / 33\n"
     ]
    },
    {
     "data": {
      "text/html": [
       "<div>\n",
       "<style scoped>\n",
       "    .dataframe tbody tr th:only-of-type {\n",
       "        vertical-align: middle;\n",
       "    }\n",
       "\n",
       "    .dataframe tbody tr th {\n",
       "        vertical-align: top;\n",
       "    }\n",
       "\n",
       "    .dataframe thead th {\n",
       "        text-align: right;\n",
       "    }\n",
       "</style>\n",
       "<table border=\"1\" class=\"dataframe\">\n",
       "  <thead>\n",
       "    <tr style=\"text-align: right;\">\n",
       "      <th></th>\n",
       "      <th>event_root_code</th>\n",
       "      <th>pt</th>\n",
       "    </tr>\n",
       "  </thead>\n",
       "  <tbody>\n",
       "    <tr>\n",
       "      <th>0</th>\n",
       "      <td>1</td>\n",
       "      <td>POINT (-93.214 42.0046)</td>\n",
       "    </tr>\n",
       "    <tr>\n",
       "      <th>1</th>\n",
       "      <td>8</td>\n",
       "      <td>POINT (-93.214 42.0046)</td>\n",
       "    </tr>\n",
       "    <tr>\n",
       "      <th>2</th>\n",
       "      <td>8</td>\n",
       "      <td>POINT (-91.2213 45.7688)</td>\n",
       "    </tr>\n",
       "    <tr>\n",
       "      <th>3</th>\n",
       "      <td>3</td>\n",
       "      <td>POINT (-74.9384 42.1497)</td>\n",
       "    </tr>\n",
       "    <tr>\n",
       "      <th>4</th>\n",
       "      <td>11</td>\n",
       "      <td>POINT (12.833333 42.833333)</td>\n",
       "    </tr>\n",
       "  </tbody>\n",
       "</table>\n",
       "</div>"
      ],
      "text/plain": [
       "   event_root_code                           pt\n",
       "0                1      POINT (-93.214 42.0046)\n",
       "1                8      POINT (-93.214 42.0046)\n",
       "2                8     POINT (-91.2213 45.7688)\n",
       "3                3     POINT (-74.9384 42.1497)\n",
       "4               11  POINT (12.833333 42.833333)"
      ]
     },
     "execution_count": 12,
     "metadata": {},
     "output_type": "execute_result"
    }
   ],
   "source": [
    "query = \"\"\"\n",
    "    SELECT \n",
    "      event_root_code,\n",
    "      ST_Point(lon, lat) AS pt \n",
    "    FROM gdelt_parquet_inserted_2020 \n",
    "    LIMIT 10\n",
    "\"\"\"\n",
    "\n",
    "df = run_query(query, **PRESTO_CONNECTION)\n",
    "df.head()"
   ]
  },
  {
   "cell_type": "markdown",
   "metadata": {},
   "source": [
    "# Query all Points within Geometry"
   ]
  },
  {
   "cell_type": "code",
   "execution_count": 19,
   "metadata": {},
   "outputs": [],
   "source": [
    "filepath = \"/home/hadoop/sgds/data/naturalearth/\" \\\n",
    "           \"ne_110m_admin_0_countries.shp\"\n",
    "\n",
    "gdf_ne = gpd.read_file(filepath)"
   ]
  },
  {
   "cell_type": "code",
   "execution_count": 31,
   "metadata": {},
   "outputs": [
    {
     "data": {
      "image/svg+xml": [
       "<svg xmlns=\"http://www.w3.org/2000/svg\" xmlns:xlink=\"http://www.w3.org/1999/xlink\" width=\"100.0\" height=\"100.0\" viewBox=\"9.17998162602282 46.13182943784335 8.099673046907418 3.2072326578904296\" preserveAspectRatio=\"xMinYMin meet\"><g transform=\"matrix(1,0,0,-1,0,95.47089153357713)\"><path fill-rule=\"evenodd\" fill=\"#66cc99\" stroke=\"#555555\" stroke-width=\"0.16199346093814834\" opacity=\"0.6\" d=\"M 16.979666782304037,48.123497015976305 L 16.90375410326726,47.71486562762833 L 16.340584344150415,47.71290192320123 L 16.534267612380376,47.49617096616912 L 16.202298211337364,46.85238597267696 L 16.011663852612656,46.6836107448117 L 15.137091912504985,46.65870270444703 L 14.63247155117483,46.43181732846955 L 13.806475457421527,46.509306138691215 L 12.376485223040817,46.76755910906985 L 12.153088006243054,47.11539317482645 L 11.16482791509327,46.94157949481273 L 11.048555942436536,46.75135854754634 L 10.44270145024663,46.89354625099743 L 9.932448357796659,46.92072805438296 L 9.479969516649021,47.102809963563374 L 9.632931756232978,47.34760122332999 L 9.59422610844635,47.52505809182027 L 9.89606814946319,47.580196845075704 L 10.402083774465211,47.30248769793916 L 10.544504021861599,47.5663992376538 L 11.426414015354737,47.523766181012974 L 12.141357456112788,47.703083401065776 L 12.620759718484493,47.67238760028441 L 12.932626987365948,47.467645575544 L 13.02585127122049,47.63758352313583 L 12.884102817443875,48.28914581968786 L 13.243357374737,48.416114813829054 L 13.595945672264437,48.87717194273715 L 14.338897739324722,48.55530528420721 L 14.901447381254057,48.964401760445824 L 15.253415561593982,49.03907420510758 L 16.02964725105022,48.73389903420793 L 16.499282667718774,48.78580801044511 L 16.960288120194576,48.5969823268506 L 16.879982944413,48.47001333270947 L 16.979666782304037,48.123497015976305 z\" /></g></svg>"
      ],
      "text/plain": [
       "<shapely.geometry.polygon.Polygon at 0x7f07a4f98290>"
      ]
     },
     "execution_count": 31,
     "metadata": {},
     "output_type": "execute_result"
    }
   ],
   "source": [
    "mask = gdf_ne['ISO_A2'] == 'AT'\n",
    "geom = gdf_ne[mask].iloc[0]['geometry']\n",
    "geom"
   ]
  },
  {
   "cell_type": "code",
   "execution_count": 36,
   "metadata": {},
   "outputs": [
    {
     "name": "stdout",
     "output_type": "stream",
     "text": [
      "FINISHED in 3143 ms\n",
      "num nodes : 3\n",
      "Query : 20200921_082844_00018_vw22n\n",
      "Splits : 16 / 16\n",
      "CPU times: user 477 ms, sys: 14.7 ms, total: 492 ms\n",
      "Wall time: 3.4 s\n"
     ]
    },
    {
     "data": {
      "text/html": [
       "<div>\n",
       "<style scoped>\n",
       "    .dataframe tbody tr th:only-of-type {\n",
       "        vertical-align: middle;\n",
       "    }\n",
       "\n",
       "    .dataframe tbody tr th {\n",
       "        vertical-align: top;\n",
       "    }\n",
       "\n",
       "    .dataframe thead th {\n",
       "        text-align: right;\n",
       "    }\n",
       "</style>\n",
       "<table border=\"1\" class=\"dataframe\">\n",
       "  <thead>\n",
       "    <tr style=\"text-align: right;\">\n",
       "      <th></th>\n",
       "      <th>event_date</th>\n",
       "      <th>event_root_code</th>\n",
       "      <th>geom</th>\n",
       "    </tr>\n",
       "  </thead>\n",
       "  <tbody>\n",
       "    <tr>\n",
       "      <th>0</th>\n",
       "      <td>2020-06-05</td>\n",
       "      <td>1</td>\n",
       "      <td>POINT (16.3667 48.2)</td>\n",
       "    </tr>\n",
       "    <tr>\n",
       "      <th>1</th>\n",
       "      <td>2020-06-05</td>\n",
       "      <td>17</td>\n",
       "      <td>POINT (13.333333 47.333333)</td>\n",
       "    </tr>\n",
       "    <tr>\n",
       "      <th>2</th>\n",
       "      <td>2020-06-05</td>\n",
       "      <td>7</td>\n",
       "      <td>POINT (16.3667 48.2)</td>\n",
       "    </tr>\n",
       "    <tr>\n",
       "      <th>3</th>\n",
       "      <td>2020-06-05</td>\n",
       "      <td>8</td>\n",
       "      <td>POINT (13.333333 47.333333)</td>\n",
       "    </tr>\n",
       "    <tr>\n",
       "      <th>4</th>\n",
       "      <td>2020-06-05</td>\n",
       "      <td>8</td>\n",
       "      <td>POINT (13.333333 47.333333)</td>\n",
       "    </tr>\n",
       "  </tbody>\n",
       "</table>\n",
       "</div>"
      ],
      "text/plain": [
       "   event_date  event_root_code                         geom\n",
       "0  2020-06-05                1         POINT (16.3667 48.2)\n",
       "1  2020-06-05               17  POINT (13.333333 47.333333)\n",
       "2  2020-06-05                7         POINT (16.3667 48.2)\n",
       "3  2020-06-05                8  POINT (13.333333 47.333333)\n",
       "4  2020-06-05                8  POINT (13.333333 47.333333)"
      ]
     },
     "execution_count": 36,
     "metadata": {},
     "output_type": "execute_result"
    }
   ],
   "source": [
    "%%time\n",
    "query = \"\"\"\n",
    "    SELECT \n",
    "      event_date, \n",
    "      event_root_code, \n",
    "      ST_Point(lon, lat) AS geom\n",
    "    FROM gdelt_parquet_inserted_2020\n",
    "    WHERE ST_Intersects(\n",
    "      ST_Point(lon, lat), \n",
    "      ST_GeometryFromText('{}')\n",
    "    )\n",
    "\"\"\".format(geom.wkt)\n",
    "\n",
    "df = run_query(query, **PRESTO_CONNECTION)\n",
    "df.head()"
   ]
  },
  {
   "cell_type": "code",
   "execution_count": 37,
   "metadata": {},
   "outputs": [],
   "source": [
    "df['geom'] = df['geom'].apply(shapely.wkt.loads)\n",
    "gdf = gpd.GeoDataFrame(df, geometry='geom', crs='epsg:4326')"
   ]
  },
  {
   "cell_type": "code",
   "execution_count": 53,
   "metadata": {},
   "outputs": [
    {
     "data": {
      "image/png": "[encoded data removed]",
      "text/plain": [
       "<Figure size 864x432 with 1 Axes>"
      ]
     },
     "metadata": {
      "needs_background": "light"
     },
     "output_type": "display_data"
    }
   ],
   "source": [
    "fig, ax = plt.subplots(figsize=(12, 6))\n",
    "\n",
    "gdf.plot(ax=ax, alpha=0.8, markersize=10)\n",
    "gdf_ne[mask].boundary.plot(ax=ax, color='r', alpha=0.8);"
   ]
  },
  {
   "cell_type": "markdown",
   "metadata": {},
   "source": [
    "# Bing Tiles"
   ]
  },
  {
   "cell_type": "code",
   "execution_count": 17,
   "metadata": {},
   "outputs": [
    {
     "name": "stdout",
     "output_type": "stream",
     "text": [
      "FINISHED in 25361 ms\n",
      "num nodes : 3\n",
      "Query : 20200921_082403_00016_vw22n\n",
      "Splits : 16 / 16\n",
      "CPU times: user 122 ms, sys: 17.4 ms, total: 139 ms\n",
      "Wall time: 25.8 s\n"
     ]
    },
    {
     "data": {
      "text/html": [
       "<div>\n",
       "<style scoped>\n",
       "    .dataframe tbody tr th:only-of-type {\n",
       "        vertical-align: middle;\n",
       "    }\n",
       "\n",
       "    .dataframe tbody tr th {\n",
       "        vertical-align: top;\n",
       "    }\n",
       "\n",
       "    .dataframe thead th {\n",
       "        text-align: right;\n",
       "    }\n",
       "</style>\n",
       "<table border=\"1\" class=\"dataframe\">\n",
       "  <thead>\n",
       "    <tr style=\"text-align: right;\">\n",
       "      <th></th>\n",
       "      <th>cnt</th>\n",
       "      <th>tile</th>\n",
       "      <th>geom</th>\n",
       "    </tr>\n",
       "  </thead>\n",
       "  <tbody>\n",
       "    <tr>\n",
       "      <th>0</th>\n",
       "      <td>60633</td>\n",
       "      <td>{'x': 53, 'y': 26, 'zoom': 6}</td>\n",
       "      <td>POLYGON ((118.125 27.05912578437406, 123.75 27...</td>\n",
       "    </tr>\n",
       "    <tr>\n",
       "      <th>1</th>\n",
       "      <td>28541</td>\n",
       "      <td>{'x': 54, 'y': 30, 'zoom': 6}</td>\n",
       "      <td>POLYGON ((123.75 5.615985819155327, 129.375 5....</td>\n",
       "    </tr>\n",
       "    <tr>\n",
       "      <th>2</th>\n",
       "      <td>17286</td>\n",
       "      <td>{'x': 35, 'y': 18, 'zoom': 6}</td>\n",
       "      <td>POLYGON ((16.875 58.813741715707806, 22.5 58.8...</td>\n",
       "    </tr>\n",
       "    <tr>\n",
       "      <th>3</th>\n",
       "      <td>1805</td>\n",
       "      <td>{'x': 28, 'y': 17, 'zoom': 6}</td>\n",
       "      <td>POLYGON ((-22.5 61.60639637138627, -16.875 61....</td>\n",
       "    </tr>\n",
       "    <tr>\n",
       "      <th>4</th>\n",
       "      <td>969</td>\n",
       "      <td>{'x': 35, 'y': 19, 'zoom': 6}</td>\n",
       "      <td>POLYGON ((16.875 55.77657301866769, 22.5 55.77...</td>\n",
       "    </tr>\n",
       "  </tbody>\n",
       "</table>\n",
       "</div>"
      ],
      "text/plain": [
       "     cnt                           tile  \\\n",
       "0  60633  {'x': 53, 'y': 26, 'zoom': 6}   \n",
       "1  28541  {'x': 54, 'y': 30, 'zoom': 6}   \n",
       "2  17286  {'x': 35, 'y': 18, 'zoom': 6}   \n",
       "3   1805  {'x': 28, 'y': 17, 'zoom': 6}   \n",
       "4    969  {'x': 35, 'y': 19, 'zoom': 6}   \n",
       "\n",
       "                                                geom  \n",
       "0  POLYGON ((118.125 27.05912578437406, 123.75 27...  \n",
       "1  POLYGON ((123.75 5.615985819155327, 129.375 5....  \n",
       "2  POLYGON ((16.875 58.813741715707806, 22.5 58.8...  \n",
       "3  POLYGON ((-22.5 61.60639637138627, -16.875 61....  \n",
       "4  POLYGON ((16.875 55.77657301866769, 22.5 55.77...  "
      ]
     },
     "execution_count": 17,
     "metadata": {},
     "output_type": "execute_result"
    }
   ],
   "source": [
    "%%time\n",
    "query = \"\"\"\n",
    "    WITH counts AS (\n",
    "      SELECT\n",
    "        COUNT(*) AS cnt,\n",
    "        bing_tile_at(lat, lon, 6) AS tile\n",
    "      FROM gdelt_parquet_inserted_2020\n",
    "      WHERE -85 < lat AND lat < 85\n",
    "      GROUP BY 2\n",
    "    )\n",
    "    \n",
    "    SELECT \n",
    "      cnt, \n",
    "      tile, \n",
    "      bing_tile_polygon(tile) AS geom\n",
    "    FROM counts\n",
    "\"\"\".format(extent_wkt)\n",
    "\n",
    "df = run_query(query, **PRESTO_CONNECTION)\n",
    "df.head()"
   ]
  },
  {
   "cell_type": "code",
   "execution_count": 18,
   "metadata": {},
   "outputs": [
    {
     "data": {
      "image/png": "[encoded data removed]",
      "text/plain": [
       "<Figure size 864x720 with 1 Axes>"
      ]
     },
     "metadata": {
      "needs_background": "light"
     },
     "output_type": "display_data"
    }
   ],
   "source": [
    "df = df.dropna(subset=['geom'])\n",
    "df['geom'] = df['geom'].apply(shapely.wkt.loads)\n",
    "gdf = gpd.GeoDataFrame(df, geometry='geom', crs='epsg:4326')\n",
    "\n",
    "gdf.to_crs(epsg=3857).plot(column='cnt', \n",
    "                           cmap='viridis', \n",
    "                           scheme='naturalbreaks', k=5,\n",
    "                           figsize=(12, 10),\n",
    "                           legend=True);"
   ]
  },
  {
   "cell_type": "markdown",
   "metadata": {},
   "source": [
    "# Spatial Join"
   ]
  },
  {
   "cell_type": "code",
   "execution_count": 67,
   "metadata": {},
   "outputs": [
    {
     "name": "stdout",
     "output_type": "stream",
     "text": [
      "FINISHED in 52444 ms\n",
      "num nodes : 3\n",
      "Query : 20200921_085836_00024_vw22n\n",
      "Splits : 16 / 16\n",
      "CPU times: user 252 ms, sys: 30.4 ms, total: 282 ms\n",
      "Wall time: 52.5 s\n"
     ]
    },
    {
     "data": {
      "text/html": [
       "<div>\n",
       "<style scoped>\n",
       "    .dataframe tbody tr th:only-of-type {\n",
       "        vertical-align: middle;\n",
       "    }\n",
       "\n",
       "    .dataframe tbody tr th {\n",
       "        vertical-align: top;\n",
       "    }\n",
       "\n",
       "    .dataframe thead th {\n",
       "        text-align: right;\n",
       "    }\n",
       "</style>\n",
       "<table border=\"1\" class=\"dataframe\">\n",
       "  <thead>\n",
       "    <tr style=\"text-align: right;\">\n",
       "      <th></th>\n",
       "      <th>ne_id</th>\n",
       "      <th>cnt</th>\n",
       "      <th>iso_a2</th>\n",
       "      <th>geometry</th>\n",
       "    </tr>\n",
       "  </thead>\n",
       "  <tbody>\n",
       "    <tr>\n",
       "      <th>0</th>\n",
       "      <td>1159321081</td>\n",
       "      <td>26479</td>\n",
       "      <td>MW</td>\n",
       "      <td>MULTIPOLYGON (((32.75937544122132 -9.230599053...</td>\n",
       "    </tr>\n",
       "    <tr>\n",
       "      <th>1</th>\n",
       "      <td>1159321087</td>\n",
       "      <td>21152</td>\n",
       "      <td>NE</td>\n",
       "      <td>MULTIPOLYGON (((14.851300000000037 22.86295000...</td>\n",
       "    </tr>\n",
       "    <tr>\n",
       "      <th>2</th>\n",
       "      <td>1159321061</td>\n",
       "      <td>7898</td>\n",
       "      <td>MK</td>\n",
       "      <td>MULTIPOLYGON (((22.380525750424592 42.32025950...</td>\n",
       "    </tr>\n",
       "    <tr>\n",
       "      <th>3</th>\n",
       "      <td>1159320815</td>\n",
       "      <td>17240</td>\n",
       "      <td>GT</td>\n",
       "      <td>MULTIPOLYGON (((-92.22775000686983 14.53882864...</td>\n",
       "    </tr>\n",
       "    <tr>\n",
       "      <th>4</th>\n",
       "      <td>1159321253</td>\n",
       "      <td>11568</td>\n",
       "      <td>SV</td>\n",
       "      <td>MULTIPOLYGON (((-89.35332597528281 14.42413279...</td>\n",
       "    </tr>\n",
       "  </tbody>\n",
       "</table>\n",
       "</div>"
      ],
      "text/plain": [
       "        ne_id    cnt iso_a2                                           geometry\n",
       "0  1159321081  26479     MW  MULTIPOLYGON (((32.75937544122132 -9.230599053...\n",
       "1  1159321087  21152     NE  MULTIPOLYGON (((14.851300000000037 22.86295000...\n",
       "2  1159321061   7898     MK  MULTIPOLYGON (((22.380525750424592 42.32025950...\n",
       "3  1159320815  17240     GT  MULTIPOLYGON (((-92.22775000686983 14.53882864...\n",
       "4  1159321253  11568     SV  MULTIPOLYGON (((-89.35332597528281 14.42413279..."
      ]
     },
     "execution_count": 67,
     "metadata": {},
     "output_type": "execute_result"
    }
   ],
   "source": [
    "%%time\n",
    "query = \"\"\"\n",
    "    WITH countries AS (\n",
    "      SELECT \n",
    "        ne_id,\n",
    "        iso_a2,\n",
    "        ST_GeomFromBinary(geometry) AS geometry\n",
    "      FROM ne_110_countries_parquet\n",
    "    ), points AS (\n",
    "       SELECT\n",
    "         event_root_code, \n",
    "         ST_Point(lon, lat) AS point\n",
    "       FROM gdelt_parquet_inserted_2020\n",
    "    ), counts AS (\n",
    "      SELECT \n",
    "        countries.ne_id,\n",
    "        COUNT(*) AS cnt\n",
    "      FROM points, countries\n",
    "      WHERE ST_Contains(countries.geometry, points.point)\n",
    "      GROUP BY (\n",
    "        countries.ne_id\n",
    "      )\n",
    "    )\n",
    "    \n",
    "    SELECT \n",
    "      counts.ne_id,\n",
    "      counts.cnt,\n",
    "      countries.iso_a2,\n",
    "      countries.geometry\n",
    "    FROM\n",
    "      counts,\n",
    "      countries\n",
    "    WHERE\n",
    "      counts.ne_id = countries.ne_id\n",
    "\"\"\"\n",
    "\n",
    "df = run_query(query, **PRESTO_CONNECTION)\n",
    "df.head()"
   ]
  },
  {
   "cell_type": "code",
   "execution_count": 69,
   "metadata": {},
   "outputs": [],
   "source": [
    "df['geometry'] = df['geometry'].apply(shapely.wkt.loads)\n",
    "gdf = gpd.GeoDataFrame(df, geometry='geometry', crs='epsg:4326')"
   ]
  },
  {
   "cell_type": "code",
   "execution_count": 74,
   "metadata": {},
   "outputs": [
    {
     "data": {
      "image/png": "[encoded data removed]",
      "text/plain": [
       "<Figure size 864x720 with 1 Axes>"
      ]
     },
     "metadata": {
      "needs_background": "light"
     },
     "output_type": "display_data"
    }
   ],
   "source": [
    "# Remove Antarctica\n",
    "mask = gdf['iso_a2'] != 'AQ'\n",
    "\n",
    "ax = gdf[mask].to_crs({'proj': 'robin'}).plot(column='cnt', \n",
    "                                 cmap='viridis', \n",
    "                                 scheme='naturalbreaks', k=8,\n",
    "                                 figsize=(12, 10),\n",
    "                                 legend=True,\n",
    "                                 legend_kwds={'loc': 'lower left'});"
   ]
  }
 ],
 "metadata": {
  "kernelspec": {
   "display_name": "gis",
   "language": "python",
   "name": "gis"
  },
  "language_info": {
   "codemirror_mode": {
    "name": "ipython",
    "version": 3
   },
   "file_extension": ".py",
   "mimetype": "text/x-python",
   "name": "python",
   "nbconvert_exporter": "python",
   "pygments_lexer": "ipython3",
   "version": "3.7.6"
  }
 },
 "nbformat": 4,
 "nbformat_minor": 4
}
